{
 "cells": [
  {
   "cell_type": "markdown",
   "id": "246f9291",
   "metadata": {},
   "source": [
    "### Import Packages"
   ]
  },
  {
   "cell_type": "code",
   "execution_count": 63,
   "id": "dc6432f3",
   "metadata": {},
   "outputs": [],
   "source": [
    "import mat4py\n",
    "from sklearn.datasets import load_breast_cancer\n",
    "from sklearn.model_selection import train_test_split\n",
    "import numpy as np\n",
    "import pandas as pd\n",
    "import scipy.io\n",
    "import os \n",
    "from sklearn.model_selection import KFold\n",
    "import math\n",
    "import scipy.io\n",
    "import matplotlib.pyplot as plt\n",
    "from random import sample\n",
    "\n",
    "from sklearn.ensemble import RandomForestRegressor\n",
    "from sklearn.metrics import r2_score\n",
    "from sklearn.metrics import mean_squared_error\n",
    "\n",
    "import networkx as nx\n",
    "\n",
    "import pandas as pd"
   ]
  },
  {
   "cell_type": "code",
   "execution_count": 64,
   "id": "e8dda726",
   "metadata": {},
   "outputs": [],
   "source": [
    "from sklearn.linear_model import LinearRegression\n",
    "from sklearn.dummy import DummyClassifier\n",
    "from sklearn.linear_model import LogisticRegression\n",
    "from sklearn.neighbors import KNeighborsClassifier\n",
    "from sklearn.tree import DecisionTreeClassifier\n",
    "from sklearn.svm import SVC\n",
    "from sklearn.ensemble import RandomForestClassifier\n",
    "from sklearn.naive_bayes import GaussianNB\n",
    "from sklearn.neural_network import MLPClassifier\n",
    "from sklearn.ensemble import GradientBoostingClassifier,AdaBoostClassifier\n",
    "from sklearn.discriminant_analysis import QuadraticDiscriminantAnalysis\n",
    "from sklearn.metrics import accuracy_score\n",
    "\n",
    "from sklearn.metrics import mean_absolute_error, r2_score"
   ]
  },
  {
   "cell_type": "code",
   "execution_count": 65,
   "id": "819caa1e",
   "metadata": {},
   "outputs": [],
   "source": [
    "from scipy.stats import pearsonr\n",
    "\n",
    "from sklearn.model_selection import train_test_split\n",
    "from sklearn.linear_model import LinearRegression, Lasso, Ridge, ElasticNet\n",
    "from sklearn.tree import DecisionTreeRegressor\n",
    "from sklearn.ensemble import RandomForestRegressor, GradientBoostingRegressor\n",
    "from sklearn.metrics import r2_score, mean_absolute_error\n",
    "import pandas as pd"
   ]
  },
  {
   "cell_type": "markdown",
   "id": "20ddc031",
   "metadata": {},
   "source": [
    "### Data Loading and Processing"
   ]
  },
  {
   "cell_type": "code",
   "execution_count": 66,
   "id": "17579540",
   "metadata": {},
   "outputs": [
    {
     "name": "stdout",
     "output_type": "stream",
     "text": [
      "(424, 1)\n"
     ]
    }
   ],
   "source": [
    "\n",
    "## \n",
    "## load .mat data in Python\n",
    "## 1 use scipy.io.loadmat\n",
    "## 2 use mat4py.loadmat\n",
    "\n",
    "CellNames = scipy.io.loadmat('../data/CellType_Names.mat')\n",
    "CellNames = CellNames['cellnames'] \n",
    "\n",
    "\n",
    "## we have 424 region of interests\n",
    "## what is the 424*424 matrix?\n",
    "Connectomes = scipy.io.loadmat('../data/Connectomes.mat')\n",
    "Connectome_direct = Connectomes['C_dir']\n",
    "\n",
    "\n",
    "'''\n",
    "\n",
    "Region volumes, in a 424 vector, to get connectivity density, divide\n",
    "% each row in connectomes by each entry in the vector to get density. Units\n",
    "% are in 200 micron per vertex voxels.\n",
    "\n",
    "'''\n",
    "\n",
    "CellType_volumn = mat4py.loadmat('../data/Regional_Volumes.mat')\n",
    "CellType_volumn = CellType_volumn['region_vols']\n",
    "Celltype_volumn =np.array([np.array(xi) for xi in CellType_volumn])\n",
    "print(Celltype_volumn.shape)\n",
    "\n",
    "# Nomarlize by the entry\n",
    "\n",
    "Connectome_direct_density = Connectome_direct/Celltype_volumn\n",
    "\n",
    "CellNames = [CellNames[0][x][0] for x in list(range(25))]\n",
    "\n",
    "labels = ['P:'+ x for x in CellNames] + ['R:'+ x for x in CellNames]"
   ]
  },
  {
   "cell_type": "code",
   "execution_count": 67,
   "id": "3488fc57",
   "metadata": {},
   "outputs": [
    {
     "data": {
      "text/plain": [
       "424"
      ]
     },
     "execution_count": 67,
     "metadata": {},
     "output_type": "execute_result"
    }
   ],
   "source": [
    "len(CellType_volumn)"
   ]
  },
  {
   "cell_type": "code",
   "execution_count": 68,
   "id": "23d41122",
   "metadata": {
    "scrolled": true
   },
   "outputs": [
    {
     "data": {
      "text/plain": [
       "0.0"
      ]
     },
     "execution_count": 68,
     "metadata": {},
     "output_type": "execute_result"
    }
   ],
   "source": [
    "Connectome_direct[i, j]"
   ]
  },
  {
   "cell_type": "code",
   "execution_count": 69,
   "id": "2cabca2c",
   "metadata": {},
   "outputs": [
    {
     "data": {
      "text/plain": [
       "(424, 424)"
      ]
     },
     "execution_count": 69,
     "metadata": {},
     "output_type": "execute_result"
    }
   ],
   "source": [
    "Connectome_direct_density.shape"
   ]
  },
  {
   "cell_type": "code",
   "execution_count": 70,
   "id": "c84980db",
   "metadata": {},
   "outputs": [],
   "source": [
    "# Import Tasic data, using the 25 cell type features\n",
    "\n",
    "Cell_type = mat4py.loadmat('../data/Tasic_nG_606_TypeDensity.mat')\n",
    "Cell_type = Cell_type['cell_type_density_nG606']\n",
    "Celltype_mtx =np.array([np.array(xi) for xi in Cell_type])\n",
    "\n",
    "# Important : normalizing via the columns\n",
    "\n",
    "Celltype_mtx_norm =(Celltype_mtx-Celltype_mtx.min(axis=0)) / (Celltype_mtx.max(axis=0) - Celltype_mtx.min(axis=0) )"
   ]
  },
  {
   "cell_type": "code",
   "execution_count": 71,
   "id": "256a43e5",
   "metadata": {},
   "outputs": [
    {
     "data": {
      "text/plain": [
       "(424, 25)"
      ]
     },
     "execution_count": 71,
     "metadata": {},
     "output_type": "execute_result"
    }
   ],
   "source": [
    "Celltype_mtx_norm.shape"
   ]
  },
  {
   "cell_type": "code",
   "execution_count": 72,
   "id": "dfc2d3a4",
   "metadata": {},
   "outputs": [
    {
     "data": {
      "text/html": [
       "<div>\n",
       "<style scoped>\n",
       "    .dataframe tbody tr th:only-of-type {\n",
       "        vertical-align: middle;\n",
       "    }\n",
       "\n",
       "    .dataframe tbody tr th {\n",
       "        vertical-align: top;\n",
       "    }\n",
       "\n",
       "    .dataframe thead th {\n",
       "        text-align: right;\n",
       "    }\n",
       "</style>\n",
       "<table border=\"1\" class=\"dataframe\">\n",
       "  <thead>\n",
       "    <tr style=\"text-align: right;\">\n",
       "      <th></th>\n",
       "      <th>0</th>\n",
       "      <th>1</th>\n",
       "      <th>2</th>\n",
       "      <th>3</th>\n",
       "      <th>4</th>\n",
       "      <th>5</th>\n",
       "      <th>6</th>\n",
       "      <th>7</th>\n",
       "      <th>8</th>\n",
       "      <th>9</th>\n",
       "      <th>...</th>\n",
       "      <th>414</th>\n",
       "      <th>415</th>\n",
       "      <th>416</th>\n",
       "      <th>417</th>\n",
       "      <th>418</th>\n",
       "      <th>419</th>\n",
       "      <th>420</th>\n",
       "      <th>421</th>\n",
       "      <th>422</th>\n",
       "      <th>423</th>\n",
       "    </tr>\n",
       "  </thead>\n",
       "  <tbody>\n",
       "    <tr>\n",
       "      <th>0</th>\n",
       "      <td>0.000000</td>\n",
       "      <td>0.000000</td>\n",
       "      <td>0.000000</td>\n",
       "      <td>0.000000</td>\n",
       "      <td>0.000000</td>\n",
       "      <td>0.000000</td>\n",
       "      <td>0.000000</td>\n",
       "      <td>0.000000</td>\n",
       "      <td>0.057447</td>\n",
       "      <td>0.000000</td>\n",
       "      <td>...</td>\n",
       "      <td>0.010522</td>\n",
       "      <td>0.000000</td>\n",
       "      <td>0.163605</td>\n",
       "      <td>0.004885</td>\n",
       "      <td>0.143676</td>\n",
       "      <td>0.000000</td>\n",
       "      <td>0.000000</td>\n",
       "      <td>0.000380</td>\n",
       "      <td>0.0</td>\n",
       "      <td>0.0</td>\n",
       "    </tr>\n",
       "    <tr>\n",
       "      <th>1</th>\n",
       "      <td>4.415033</td>\n",
       "      <td>0.000000</td>\n",
       "      <td>0.000000</td>\n",
       "      <td>8.560450</td>\n",
       "      <td>0.000000</td>\n",
       "      <td>0.000000</td>\n",
       "      <td>0.170284</td>\n",
       "      <td>0.000000</td>\n",
       "      <td>2.201508</td>\n",
       "      <td>0.470627</td>\n",
       "      <td>...</td>\n",
       "      <td>0.000000</td>\n",
       "      <td>0.000000</td>\n",
       "      <td>0.000000</td>\n",
       "      <td>0.000000</td>\n",
       "      <td>0.000000</td>\n",
       "      <td>0.000000</td>\n",
       "      <td>0.000000</td>\n",
       "      <td>0.000000</td>\n",
       "      <td>0.0</td>\n",
       "      <td>0.0</td>\n",
       "    </tr>\n",
       "    <tr>\n",
       "      <th>2</th>\n",
       "      <td>1.936795</td>\n",
       "      <td>0.271846</td>\n",
       "      <td>0.000000</td>\n",
       "      <td>6.186987</td>\n",
       "      <td>0.394856</td>\n",
       "      <td>0.000000</td>\n",
       "      <td>0.000000</td>\n",
       "      <td>2.378376</td>\n",
       "      <td>0.000000</td>\n",
       "      <td>1.213743</td>\n",
       "      <td>...</td>\n",
       "      <td>0.000000</td>\n",
       "      <td>0.000000</td>\n",
       "      <td>0.001400</td>\n",
       "      <td>0.000000</td>\n",
       "      <td>0.000000</td>\n",
       "      <td>0.000000</td>\n",
       "      <td>0.000000</td>\n",
       "      <td>0.000000</td>\n",
       "      <td>0.0</td>\n",
       "      <td>0.0</td>\n",
       "    </tr>\n",
       "    <tr>\n",
       "      <th>3</th>\n",
       "      <td>0.000000</td>\n",
       "      <td>0.000000</td>\n",
       "      <td>0.000000</td>\n",
       "      <td>0.000000</td>\n",
       "      <td>0.000000</td>\n",
       "      <td>0.000000</td>\n",
       "      <td>0.000000</td>\n",
       "      <td>0.000000</td>\n",
       "      <td>0.000000</td>\n",
       "      <td>0.000000</td>\n",
       "      <td>...</td>\n",
       "      <td>0.000000</td>\n",
       "      <td>0.000000</td>\n",
       "      <td>0.036493</td>\n",
       "      <td>0.002599</td>\n",
       "      <td>0.000000</td>\n",
       "      <td>0.000000</td>\n",
       "      <td>0.000000</td>\n",
       "      <td>0.000000</td>\n",
       "      <td>0.0</td>\n",
       "      <td>0.0</td>\n",
       "    </tr>\n",
       "    <tr>\n",
       "      <th>4</th>\n",
       "      <td>13.640862</td>\n",
       "      <td>38.239306</td>\n",
       "      <td>13.172459</td>\n",
       "      <td>12.215625</td>\n",
       "      <td>0.000000</td>\n",
       "      <td>5.807625</td>\n",
       "      <td>3.622143</td>\n",
       "      <td>3.365576</td>\n",
       "      <td>12.928312</td>\n",
       "      <td>0.000000</td>\n",
       "      <td>...</td>\n",
       "      <td>0.000000</td>\n",
       "      <td>0.000098</td>\n",
       "      <td>0.010173</td>\n",
       "      <td>0.008264</td>\n",
       "      <td>0.000000</td>\n",
       "      <td>0.000000</td>\n",
       "      <td>0.000000</td>\n",
       "      <td>0.000000</td>\n",
       "      <td>0.0</td>\n",
       "      <td>0.0</td>\n",
       "    </tr>\n",
       "    <tr>\n",
       "      <th>...</th>\n",
       "      <td>...</td>\n",
       "      <td>...</td>\n",
       "      <td>...</td>\n",
       "      <td>...</td>\n",
       "      <td>...</td>\n",
       "      <td>...</td>\n",
       "      <td>...</td>\n",
       "      <td>...</td>\n",
       "      <td>...</td>\n",
       "      <td>...</td>\n",
       "      <td>...</td>\n",
       "      <td>...</td>\n",
       "      <td>...</td>\n",
       "      <td>...</td>\n",
       "      <td>...</td>\n",
       "      <td>...</td>\n",
       "      <td>...</td>\n",
       "      <td>...</td>\n",
       "      <td>...</td>\n",
       "      <td>...</td>\n",
       "      <td>...</td>\n",
       "    </tr>\n",
       "    <tr>\n",
       "      <th>419</th>\n",
       "      <td>0.000000</td>\n",
       "      <td>0.000000</td>\n",
       "      <td>0.000000</td>\n",
       "      <td>0.000000</td>\n",
       "      <td>0.000000</td>\n",
       "      <td>0.000000</td>\n",
       "      <td>0.000000</td>\n",
       "      <td>0.000000</td>\n",
       "      <td>0.000000</td>\n",
       "      <td>0.000000</td>\n",
       "      <td>...</td>\n",
       "      <td>0.000000</td>\n",
       "      <td>0.162445</td>\n",
       "      <td>0.000000</td>\n",
       "      <td>0.080240</td>\n",
       "      <td>0.052513</td>\n",
       "      <td>0.000000</td>\n",
       "      <td>0.000000</td>\n",
       "      <td>0.000000</td>\n",
       "      <td>0.0</td>\n",
       "      <td>0.0</td>\n",
       "    </tr>\n",
       "    <tr>\n",
       "      <th>420</th>\n",
       "      <td>0.000000</td>\n",
       "      <td>0.000000</td>\n",
       "      <td>0.000000</td>\n",
       "      <td>0.000000</td>\n",
       "      <td>0.000000</td>\n",
       "      <td>0.000000</td>\n",
       "      <td>0.000000</td>\n",
       "      <td>0.000000</td>\n",
       "      <td>0.000000</td>\n",
       "      <td>0.000000</td>\n",
       "      <td>...</td>\n",
       "      <td>5.707262</td>\n",
       "      <td>0.287342</td>\n",
       "      <td>0.256056</td>\n",
       "      <td>0.190187</td>\n",
       "      <td>0.849564</td>\n",
       "      <td>0.000000</td>\n",
       "      <td>0.000000</td>\n",
       "      <td>1.077127</td>\n",
       "      <td>0.0</td>\n",
       "      <td>0.0</td>\n",
       "    </tr>\n",
       "    <tr>\n",
       "      <th>421</th>\n",
       "      <td>0.031765</td>\n",
       "      <td>0.000000</td>\n",
       "      <td>0.000000</td>\n",
       "      <td>0.000000</td>\n",
       "      <td>0.025411</td>\n",
       "      <td>0.000000</td>\n",
       "      <td>0.000000</td>\n",
       "      <td>0.000000</td>\n",
       "      <td>0.000000</td>\n",
       "      <td>0.000000</td>\n",
       "      <td>...</td>\n",
       "      <td>0.000000</td>\n",
       "      <td>0.135006</td>\n",
       "      <td>0.000000</td>\n",
       "      <td>0.024324</td>\n",
       "      <td>0.000000</td>\n",
       "      <td>0.000000</td>\n",
       "      <td>0.419918</td>\n",
       "      <td>0.000000</td>\n",
       "      <td>0.0</td>\n",
       "      <td>0.0</td>\n",
       "    </tr>\n",
       "    <tr>\n",
       "      <th>422</th>\n",
       "      <td>0.000000</td>\n",
       "      <td>0.000000</td>\n",
       "      <td>0.000000</td>\n",
       "      <td>0.000000</td>\n",
       "      <td>0.000000</td>\n",
       "      <td>0.000000</td>\n",
       "      <td>0.000000</td>\n",
       "      <td>0.000000</td>\n",
       "      <td>0.000000</td>\n",
       "      <td>0.000000</td>\n",
       "      <td>...</td>\n",
       "      <td>4.220297</td>\n",
       "      <td>0.000000</td>\n",
       "      <td>0.000000</td>\n",
       "      <td>0.000000</td>\n",
       "      <td>0.000000</td>\n",
       "      <td>0.000000</td>\n",
       "      <td>0.000000</td>\n",
       "      <td>0.520199</td>\n",
       "      <td>0.0</td>\n",
       "      <td>0.0</td>\n",
       "    </tr>\n",
       "    <tr>\n",
       "      <th>423</th>\n",
       "      <td>0.000000</td>\n",
       "      <td>0.000000</td>\n",
       "      <td>0.000000</td>\n",
       "      <td>0.000000</td>\n",
       "      <td>0.000000</td>\n",
       "      <td>0.000000</td>\n",
       "      <td>0.000000</td>\n",
       "      <td>0.000000</td>\n",
       "      <td>0.000000</td>\n",
       "      <td>0.000000</td>\n",
       "      <td>...</td>\n",
       "      <td>9.644633</td>\n",
       "      <td>0.000000</td>\n",
       "      <td>0.000000</td>\n",
       "      <td>0.000000</td>\n",
       "      <td>0.000000</td>\n",
       "      <td>1.018316</td>\n",
       "      <td>1.022852</td>\n",
       "      <td>1.819653</td>\n",
       "      <td>0.0</td>\n",
       "      <td>0.0</td>\n",
       "    </tr>\n",
       "  </tbody>\n",
       "</table>\n",
       "<p>424 rows × 424 columns</p>\n",
       "</div>"
      ],
      "text/plain": [
       "           0          1          2          3         4         5         6    \\\n",
       "0     0.000000   0.000000   0.000000   0.000000  0.000000  0.000000  0.000000   \n",
       "1     4.415033   0.000000   0.000000   8.560450  0.000000  0.000000  0.170284   \n",
       "2     1.936795   0.271846   0.000000   6.186987  0.394856  0.000000  0.000000   \n",
       "3     0.000000   0.000000   0.000000   0.000000  0.000000  0.000000  0.000000   \n",
       "4    13.640862  38.239306  13.172459  12.215625  0.000000  5.807625  3.622143   \n",
       "..         ...        ...        ...        ...       ...       ...       ...   \n",
       "419   0.000000   0.000000   0.000000   0.000000  0.000000  0.000000  0.000000   \n",
       "420   0.000000   0.000000   0.000000   0.000000  0.000000  0.000000  0.000000   \n",
       "421   0.031765   0.000000   0.000000   0.000000  0.025411  0.000000  0.000000   \n",
       "422   0.000000   0.000000   0.000000   0.000000  0.000000  0.000000  0.000000   \n",
       "423   0.000000   0.000000   0.000000   0.000000  0.000000  0.000000  0.000000   \n",
       "\n",
       "          7          8         9    ...       414       415       416  \\\n",
       "0    0.000000   0.057447  0.000000  ...  0.010522  0.000000  0.163605   \n",
       "1    0.000000   2.201508  0.470627  ...  0.000000  0.000000  0.000000   \n",
       "2    2.378376   0.000000  1.213743  ...  0.000000  0.000000  0.001400   \n",
       "3    0.000000   0.000000  0.000000  ...  0.000000  0.000000  0.036493   \n",
       "4    3.365576  12.928312  0.000000  ...  0.000000  0.000098  0.010173   \n",
       "..        ...        ...       ...  ...       ...       ...       ...   \n",
       "419  0.000000   0.000000  0.000000  ...  0.000000  0.162445  0.000000   \n",
       "420  0.000000   0.000000  0.000000  ...  5.707262  0.287342  0.256056   \n",
       "421  0.000000   0.000000  0.000000  ...  0.000000  0.135006  0.000000   \n",
       "422  0.000000   0.000000  0.000000  ...  4.220297  0.000000  0.000000   \n",
       "423  0.000000   0.000000  0.000000  ...  9.644633  0.000000  0.000000   \n",
       "\n",
       "          417       418       419       420       421  422  423  \n",
       "0    0.004885  0.143676  0.000000  0.000000  0.000380  0.0  0.0  \n",
       "1    0.000000  0.000000  0.000000  0.000000  0.000000  0.0  0.0  \n",
       "2    0.000000  0.000000  0.000000  0.000000  0.000000  0.0  0.0  \n",
       "3    0.002599  0.000000  0.000000  0.000000  0.000000  0.0  0.0  \n",
       "4    0.008264  0.000000  0.000000  0.000000  0.000000  0.0  0.0  \n",
       "..        ...       ...       ...       ...       ...  ...  ...  \n",
       "419  0.080240  0.052513  0.000000  0.000000  0.000000  0.0  0.0  \n",
       "420  0.190187  0.849564  0.000000  0.000000  1.077127  0.0  0.0  \n",
       "421  0.024324  0.000000  0.000000  0.419918  0.000000  0.0  0.0  \n",
       "422  0.000000  0.000000  0.000000  0.000000  0.520199  0.0  0.0  \n",
       "423  0.000000  0.000000  1.018316  1.022852  1.819653  0.0  0.0  \n",
       "\n",
       "[424 rows x 424 columns]"
      ]
     },
     "execution_count": 72,
     "metadata": {},
     "output_type": "execute_result"
    }
   ],
   "source": [
    "df"
   ]
  },
  {
   "cell_type": "code",
   "execution_count": 73,
   "id": "5619f3e1",
   "metadata": {},
   "outputs": [],
   "source": [
    "# # random forest\n",
    "\n",
    "# # build a df to store the information\n",
    "\n",
    "# # instead use the subset, this time I am trying the whole, which might be not suitable for ML, but I just wanted a positive control\n",
    "\n",
    "# res_df =[]\n",
    "\n",
    "\n",
    "# Target = []\n",
    "# Dataset = []\n",
    "\n",
    "\n",
    "# for i in range(Celltype_mtx_norm.shape[0]):\n",
    "#     for j in range(Celltype_mtx_norm.shape[0]):\n",
    "#         # ignore self connectivity\n",
    "\n",
    "#         if i == j:\n",
    "#             Connectome_direct_density[i,j] = 0\n",
    "#             pass       \n",
    "#         else:\n",
    "\n",
    "#             #_Dataset_Training = np.concatenate((Dataset_Train_set[i,:],Dataset_Train_set[j,:]))\n",
    "#             #Dataset_Training = np.stack((Dataset_Training,_Dataset_Training))\n",
    "#             Dataset.append(np.concatenate((Celltype_mtx_norm[i,:],Celltype_mtx_norm[j,:])))\n",
    "#             Target.append(Connectome_direct_density[i,j])\n",
    "            \n",
    "            \n",
    "\n",
    "# Dataset = np.stack(Dataset)\n",
    "\n",
    "# capped_Target = [math.log2(x+1) for x in Target]\n",
    "# Target =np.array([np.array(xi) for xi in capped_Target])   \n",
    "\n",
    "# Dataset= Dataset[list(np.where(Target != 0)[0])]\n",
    "# Target = Target[list(np.where(Target != 0)[0])]"
   ]
  },
  {
   "cell_type": "code",
   "execution_count": 74,
   "id": "f99524af",
   "metadata": {},
   "outputs": [],
   "source": [
    "   # #X_train, X_test, y_train, y_test = train_test_split(Dataset, Target,test_size=.2,random_state =123)  \n",
    "\n",
    "# # in total 55 features, (25 + 25) + 1 + (1 + 1) + (1 + 1)\n",
    "# kf = KFold(n_splits=10, shuffle= True)\n",
    "# list_r2 = []\n",
    "\n",
    "# p = 0 \n",
    "# for train_index, test_index in kf.split(Dataset):\n",
    "#     p = p + 1\n",
    "#     #print(train_index)\n",
    "#     #print(test_index)\n",
    "#     sub1 = train_index#), int(len(train_index))\n",
    "#     sub2 = test_index#), int(len(test_index)/50))\n",
    "#     X_train, X_test = Dataset[sub1], Dataset[sub2]\n",
    "#     y_train, y_test = Target[sub1], Target[sub2]\n",
    "  \n",
    "    \n",
    "    \n",
    "#     #reg = LazyRegressor(verbose=1, predictions=True,ignore_warnings=False, custom_metric=None)\n",
    "#     #models, predictions = reg.fit(X_train, X_test, y_train, y_test)\n",
    "#     #print(models)\n",
    "    \n",
    "#     #RF_model = RandomForestRegressor(n_estimators=100,max_features = 60,max_depth=20,min_samples_split =3)#,warm_start = True)  # height\n",
    "    \n",
    "#     RF_model = RandomForestRegressor(n_estimators=100,max_features = 15,max_depth=30)\n",
    "#     RF_model.fit(X_train, y_train)\n",
    "#     print('Traing fit')\n",
    "#     Predict = RF_model.predict(X_train)\n",
    "#     print(r2_score(y_train, Predict))\n",
    "#     print('Testing fit')\n",
    "#     Predict = RF_model.predict(X_test)\n",
    "#     print(r2_score(y_test, Predict))\n",
    "#     list_r2.append(r2_score(y_test, Predict))\n",
    "#     importances = RF_model.feature_importances_\n",
    "#     indices = np.argsort(importances)[::-1]\n",
    "#     Celltype_scores = importances[:25] + importances[25:]\n",
    "#     if p ==1 :\n",
    "        \n",
    "#         df_feature_important = {'Celltype_Names': CellNames, 'Feature_importance': list(Celltype_scores)}\n",
    "#         df_feature_important = pd.DataFrame(data=df_feature_important,dtype=np.int32)\n",
    "#     else:\n",
    "#         _df_feature_important = {'Celltype_Names': CellNames, 'Feature_importance': list(Celltype_scores)}\n",
    "#         _df_feature_important = pd.DataFrame(data=_df_feature_important,dtype=np.int32)\n",
    "#         df_feature_important = df_feature_important.append(_df_feature_important)\n",
    "        \n",
    "\n"
   ]
  },
  {
   "cell_type": "code",
   "execution_count": 75,
   "id": "32971cf8",
   "metadata": {
    "code_folding": [
     0
    ]
   },
   "outputs": [],
   "source": [
    "# df_feature_important.index = list(range(250))\n",
    "\n",
    "# import seaborn as sns\n",
    "# import matplotlib.pyplot as plt\n",
    "\n",
    "\n",
    "# #import mylib\n",
    "\n",
    "# a4_dims = (12, 6)\n",
    "# fig1, ax = plt.subplots(figsize=a4_dims)\n",
    "# grouped = df_feature_important.groupby('Celltype_Names')\n",
    "# users_sorted_average = (\n",
    "#     pd.DataFrame({col: vals['Feature_importance'] for col, vals in grouped})\n",
    "#     .mean()\n",
    "#     .sort_values(ascending=False)\n",
    "# )\n",
    "# grid = sns.boxplot( ax=ax,x=df_feature_important[\"Celltype_Names\"],y=df_feature_important['Feature_importance'], \n",
    "#                    order=users_sorted_average.index)\n",
    "# # Rotate the labels on x-axis\n",
    "# #grid.set_yticklabels(labels=users_sorted_average.index)\n",
    "# grid.set_xticklabels(labels=users_sorted_average.index, rotation=90)\n",
    "# fig1.show()\n",
    "\n",
    "# #fig.savefig('Figure/Boxplot_celltype_featureimportance_ALLregions_flipped.pdf')"
   ]
  },
  {
   "cell_type": "code",
   "execution_count": 76,
   "id": "802c8c09",
   "metadata": {},
   "outputs": [
    {
     "data": {
      "text/plain": [
       "array([[0.00000000e+00, 0.00000000e+00, 0.00000000e+00, ...,\n",
       "        3.79959776e-04, 0.00000000e+00, 0.00000000e+00],\n",
       "       [4.41503296e+00, 6.39735940e-01, 0.00000000e+00, ...,\n",
       "        0.00000000e+00, 0.00000000e+00, 0.00000000e+00],\n",
       "       [1.93679466e+00, 2.71845715e-01, 0.00000000e+00, ...,\n",
       "        0.00000000e+00, 0.00000000e+00, 0.00000000e+00],\n",
       "       ...,\n",
       "       [3.17647067e-02, 0.00000000e+00, 0.00000000e+00, ...,\n",
       "        0.00000000e+00, 0.00000000e+00, 0.00000000e+00],\n",
       "       [0.00000000e+00, 0.00000000e+00, 0.00000000e+00, ...,\n",
       "        5.20199245e-01, 0.00000000e+00, 0.00000000e+00],\n",
       "       [0.00000000e+00, 0.00000000e+00, 0.00000000e+00, ...,\n",
       "        1.81965257e+00, 0.00000000e+00, 0.00000000e+00]])"
      ]
     },
     "execution_count": 76,
     "metadata": {},
     "output_type": "execute_result"
    }
   ],
   "source": [
    "Connectome_direct_density"
   ]
  },
  {
   "cell_type": "code",
   "execution_count": 77,
   "id": "8c0f1730",
   "metadata": {},
   "outputs": [],
   "source": [
    "# self-connection should be 0.\n",
    "for i in range(424):\n",
    "    if Connectome_direct_density[i,i]!=0:\n",
    "        Connectome_direct_density[i,i] = 0"
   ]
  },
  {
   "cell_type": "code",
   "execution_count": null,
   "id": "e97fbbb3",
   "metadata": {},
   "outputs": [],
   "source": []
  },
  {
   "cell_type": "code",
   "execution_count": 78,
   "id": "9d384392",
   "metadata": {},
   "outputs": [
    {
     "name": "stdout",
     "output_type": "stream",
     "text": [
      "Name:  Graph from pandas adjacency matrix\n",
      "Type:  True\n",
      "Nodes:  424\n",
      "Edges:  64376\n"
     ]
    }
   ],
   "source": [
    "# Use nx as a Graph analyzing tool.\n",
    "\n",
    "df = pd.DataFrame(data=Connectome_direct_density, index=list(range(424)), columns=list(range(424)))\n",
    "\n",
    "G = nx.from_numpy_matrix(Connectome_direct_density,create_using=nx.DiGraph, parallel_edges=True )\n",
    "G.name = \"Graph from pandas adjacency matrix\"\n",
    "print(\"Name: \", G.name)\n",
    "print(\"Type: \", G.is_directed())\n",
    "print(\"Nodes: \", G.number_of_nodes())\n",
    "print(\"Edges: \", G.number_of_edges())"
   ]
  },
  {
   "cell_type": "code",
   "execution_count": 79,
   "id": "fae87077",
   "metadata": {},
   "outputs": [],
   "source": [
    "eigenvector_centrality = [value[1] for _,value in enumerate(nx.eigenvector_centrality(G, weight='weight').items())]\n",
    "closeness_centrality = [value[1] for _,value in enumerate(nx.closeness_centrality(G).items())] \n",
    "degree_centrality = [value[1] for _,value in enumerate(nx.degree_centrality(G).items())]\n",
    "\n",
    "betweenness_centrality = [value[1] for _,value in enumerate(nx.betweenness_centrality(G, weight='weight').items())]\n",
    "load_centrality  = [value[1] for _,value in enumerate(nx.load_centrality(G, weight='weight').items())]"
   ]
  },
  {
   "cell_type": "code",
   "execution_count": 80,
   "id": "7bb799b5",
   "metadata": {},
   "outputs": [
    {
     "data": {
      "text/plain": [
       "424"
      ]
     },
     "execution_count": 80,
     "metadata": {},
     "output_type": "execute_result"
    }
   ],
   "source": [
    "# Use this as Y first.\n",
    "len(eigenvector_centrality)"
   ]
  },
  {
   "cell_type": "code",
   "execution_count": null,
   "id": "2fce868e",
   "metadata": {},
   "outputs": [],
   "source": []
  },
  {
   "cell_type": "code",
   "execution_count": 81,
   "id": "6d2170f6",
   "metadata": {},
   "outputs": [],
   "source": [
    "X=pd.DataFrame(data=Celltype_mtx_norm,\n",
    "          index=range(424),\n",
    "        columns=CellNames\n",
    "               )"
   ]
  },
  {
   "cell_type": "code",
   "execution_count": 82,
   "id": "aef57624",
   "metadata": {},
   "outputs": [
    {
     "data": {
      "text/html": [
       "<div>\n",
       "<style scoped>\n",
       "    .dataframe tbody tr th:only-of-type {\n",
       "        vertical-align: middle;\n",
       "    }\n",
       "\n",
       "    .dataframe tbody tr th {\n",
       "        vertical-align: top;\n",
       "    }\n",
       "\n",
       "    .dataframe thead th {\n",
       "        text-align: right;\n",
       "    }\n",
       "</style>\n",
       "<table border=\"1\" class=\"dataframe\">\n",
       "  <thead>\n",
       "    <tr style=\"text-align: right;\">\n",
       "      <th></th>\n",
       "      <th>Lamp5</th>\n",
       "      <th>Meis2</th>\n",
       "      <th>Pvalb</th>\n",
       "      <th>Serpinf1</th>\n",
       "      <th>Sncg</th>\n",
       "      <th>Sst</th>\n",
       "      <th>Vip</th>\n",
       "      <th>CR</th>\n",
       "      <th>L2_3_IT</th>\n",
       "      <th>L4</th>\n",
       "      <th>...</th>\n",
       "      <th>NP</th>\n",
       "      <th>Chrna6</th>\n",
       "      <th>Gad2</th>\n",
       "      <th>LGv</th>\n",
       "      <th>Slc17a6</th>\n",
       "      <th>Slc17a7</th>\n",
       "      <th>Astro</th>\n",
       "      <th>Macro</th>\n",
       "      <th>Oligo</th>\n",
       "      <th>Endo</th>\n",
       "    </tr>\n",
       "  </thead>\n",
       "  <tbody>\n",
       "    <tr>\n",
       "      <th>0</th>\n",
       "      <td>0.101805</td>\n",
       "      <td>0.222524</td>\n",
       "      <td>0.302614</td>\n",
       "      <td>0.163599</td>\n",
       "      <td>0.122002</td>\n",
       "      <td>0.535885</td>\n",
       "      <td>0.170548</td>\n",
       "      <td>0.052602</td>\n",
       "      <td>0.000924</td>\n",
       "      <td>0.031791</td>\n",
       "      <td>...</td>\n",
       "      <td>0.014566</td>\n",
       "      <td>0.293695</td>\n",
       "      <td>0.390926</td>\n",
       "      <td>0.119970</td>\n",
       "      <td>0.054485</td>\n",
       "      <td>0.080485</td>\n",
       "      <td>0.205020</td>\n",
       "      <td>0.153997</td>\n",
       "      <td>0.220310</td>\n",
       "      <td>0.023048</td>\n",
       "    </tr>\n",
       "    <tr>\n",
       "      <th>1</th>\n",
       "      <td>0.433535</td>\n",
       "      <td>0.065233</td>\n",
       "      <td>0.057713</td>\n",
       "      <td>0.232302</td>\n",
       "      <td>0.620823</td>\n",
       "      <td>0.351885</td>\n",
       "      <td>0.272972</td>\n",
       "      <td>0.031347</td>\n",
       "      <td>0.226994</td>\n",
       "      <td>0.000000</td>\n",
       "      <td>...</td>\n",
       "      <td>0.551888</td>\n",
       "      <td>0.253789</td>\n",
       "      <td>0.031843</td>\n",
       "      <td>0.163988</td>\n",
       "      <td>0.000000</td>\n",
       "      <td>0.042441</td>\n",
       "      <td>0.320721</td>\n",
       "      <td>0.338157</td>\n",
       "      <td>0.060833</td>\n",
       "      <td>0.073400</td>\n",
       "    </tr>\n",
       "    <tr>\n",
       "      <th>2</th>\n",
       "      <td>0.552313</td>\n",
       "      <td>0.080393</td>\n",
       "      <td>0.019392</td>\n",
       "      <td>0.232100</td>\n",
       "      <td>0.188465</td>\n",
       "      <td>0.626230</td>\n",
       "      <td>0.528422</td>\n",
       "      <td>0.068763</td>\n",
       "      <td>0.293348</td>\n",
       "      <td>0.031445</td>\n",
       "      <td>...</td>\n",
       "      <td>0.425850</td>\n",
       "      <td>0.276182</td>\n",
       "      <td>0.063267</td>\n",
       "      <td>0.313050</td>\n",
       "      <td>0.003337</td>\n",
       "      <td>0.105231</td>\n",
       "      <td>0.459888</td>\n",
       "      <td>0.287689</td>\n",
       "      <td>0.047535</td>\n",
       "      <td>0.042527</td>\n",
       "    </tr>\n",
       "    <tr>\n",
       "      <th>3</th>\n",
       "      <td>0.250333</td>\n",
       "      <td>0.124450</td>\n",
       "      <td>0.018548</td>\n",
       "      <td>0.083036</td>\n",
       "      <td>0.091009</td>\n",
       "      <td>0.667059</td>\n",
       "      <td>0.267902</td>\n",
       "      <td>0.016532</td>\n",
       "      <td>0.081395</td>\n",
       "      <td>0.000000</td>\n",
       "      <td>...</td>\n",
       "      <td>0.140910</td>\n",
       "      <td>0.128628</td>\n",
       "      <td>0.490576</td>\n",
       "      <td>0.388156</td>\n",
       "      <td>0.001695</td>\n",
       "      <td>0.015331</td>\n",
       "      <td>0.312148</td>\n",
       "      <td>0.267270</td>\n",
       "      <td>0.177148</td>\n",
       "      <td>0.036023</td>\n",
       "    </tr>\n",
       "    <tr>\n",
       "      <th>4</th>\n",
       "      <td>0.318837</td>\n",
       "      <td>0.050211</td>\n",
       "      <td>0.021294</td>\n",
       "      <td>0.116680</td>\n",
       "      <td>0.162505</td>\n",
       "      <td>0.074857</td>\n",
       "      <td>0.388130</td>\n",
       "      <td>0.055558</td>\n",
       "      <td>0.065079</td>\n",
       "      <td>0.103319</td>\n",
       "      <td>...</td>\n",
       "      <td>0.117359</td>\n",
       "      <td>0.133240</td>\n",
       "      <td>0.104529</td>\n",
       "      <td>0.253774</td>\n",
       "      <td>0.027823</td>\n",
       "      <td>0.010218</td>\n",
       "      <td>0.080132</td>\n",
       "      <td>0.149537</td>\n",
       "      <td>0.100476</td>\n",
       "      <td>0.036720</td>\n",
       "    </tr>\n",
       "    <tr>\n",
       "      <th>...</th>\n",
       "      <td>...</td>\n",
       "      <td>...</td>\n",
       "      <td>...</td>\n",
       "      <td>...</td>\n",
       "      <td>...</td>\n",
       "      <td>...</td>\n",
       "      <td>...</td>\n",
       "      <td>...</td>\n",
       "      <td>...</td>\n",
       "      <td>...</td>\n",
       "      <td>...</td>\n",
       "      <td>...</td>\n",
       "      <td>...</td>\n",
       "      <td>...</td>\n",
       "      <td>...</td>\n",
       "      <td>...</td>\n",
       "      <td>...</td>\n",
       "      <td>...</td>\n",
       "      <td>...</td>\n",
       "      <td>...</td>\n",
       "      <td>...</td>\n",
       "    </tr>\n",
       "    <tr>\n",
       "      <th>419</th>\n",
       "      <td>0.002916</td>\n",
       "      <td>0.000000</td>\n",
       "      <td>0.022791</td>\n",
       "      <td>0.013974</td>\n",
       "      <td>0.002849</td>\n",
       "      <td>0.002823</td>\n",
       "      <td>0.000000</td>\n",
       "      <td>0.000000</td>\n",
       "      <td>0.000000</td>\n",
       "      <td>0.000000</td>\n",
       "      <td>...</td>\n",
       "      <td>0.000000</td>\n",
       "      <td>0.055845</td>\n",
       "      <td>0.069322</td>\n",
       "      <td>0.064390</td>\n",
       "      <td>0.727708</td>\n",
       "      <td>0.000000</td>\n",
       "      <td>0.062062</td>\n",
       "      <td>0.094632</td>\n",
       "      <td>0.215801</td>\n",
       "      <td>0.154713</td>\n",
       "    </tr>\n",
       "    <tr>\n",
       "      <th>420</th>\n",
       "      <td>0.005589</td>\n",
       "      <td>0.000000</td>\n",
       "      <td>0.005976</td>\n",
       "      <td>0.014858</td>\n",
       "      <td>0.013354</td>\n",
       "      <td>0.095823</td>\n",
       "      <td>0.003662</td>\n",
       "      <td>0.000439</td>\n",
       "      <td>0.000000</td>\n",
       "      <td>0.000000</td>\n",
       "      <td>...</td>\n",
       "      <td>0.046640</td>\n",
       "      <td>0.068762</td>\n",
       "      <td>0.361866</td>\n",
       "      <td>0.061606</td>\n",
       "      <td>0.400586</td>\n",
       "      <td>0.000000</td>\n",
       "      <td>0.129010</td>\n",
       "      <td>0.154733</td>\n",
       "      <td>0.367528</td>\n",
       "      <td>0.090773</td>\n",
       "    </tr>\n",
       "    <tr>\n",
       "      <th>421</th>\n",
       "      <td>0.008294</td>\n",
       "      <td>0.014807</td>\n",
       "      <td>0.013935</td>\n",
       "      <td>0.051451</td>\n",
       "      <td>0.001822</td>\n",
       "      <td>0.000654</td>\n",
       "      <td>0.000000</td>\n",
       "      <td>0.000000</td>\n",
       "      <td>0.000000</td>\n",
       "      <td>0.000000</td>\n",
       "      <td>...</td>\n",
       "      <td>0.000000</td>\n",
       "      <td>0.126891</td>\n",
       "      <td>0.021096</td>\n",
       "      <td>0.044091</td>\n",
       "      <td>0.729088</td>\n",
       "      <td>0.000000</td>\n",
       "      <td>0.075835</td>\n",
       "      <td>0.068349</td>\n",
       "      <td>0.340658</td>\n",
       "      <td>0.172590</td>\n",
       "    </tr>\n",
       "    <tr>\n",
       "      <th>422</th>\n",
       "      <td>0.000000</td>\n",
       "      <td>0.002242</td>\n",
       "      <td>0.000000</td>\n",
       "      <td>0.003021</td>\n",
       "      <td>0.000000</td>\n",
       "      <td>0.001471</td>\n",
       "      <td>0.000000</td>\n",
       "      <td>0.000000</td>\n",
       "      <td>0.000000</td>\n",
       "      <td>0.000000</td>\n",
       "      <td>...</td>\n",
       "      <td>0.000000</td>\n",
       "      <td>0.014000</td>\n",
       "      <td>0.000073</td>\n",
       "      <td>0.000000</td>\n",
       "      <td>0.998757</td>\n",
       "      <td>0.000000</td>\n",
       "      <td>0.000000</td>\n",
       "      <td>0.025494</td>\n",
       "      <td>0.058646</td>\n",
       "      <td>0.249453</td>\n",
       "    </tr>\n",
       "    <tr>\n",
       "      <th>423</th>\n",
       "      <td>0.000000</td>\n",
       "      <td>0.000000</td>\n",
       "      <td>0.000000</td>\n",
       "      <td>0.000000</td>\n",
       "      <td>0.000000</td>\n",
       "      <td>0.516964</td>\n",
       "      <td>0.000000</td>\n",
       "      <td>0.000000</td>\n",
       "      <td>0.000000</td>\n",
       "      <td>0.000000</td>\n",
       "      <td>...</td>\n",
       "      <td>0.011429</td>\n",
       "      <td>0.638192</td>\n",
       "      <td>0.023831</td>\n",
       "      <td>0.000000</td>\n",
       "      <td>0.527928</td>\n",
       "      <td>0.000000</td>\n",
       "      <td>0.075971</td>\n",
       "      <td>0.104869</td>\n",
       "      <td>0.182554</td>\n",
       "      <td>0.160314</td>\n",
       "    </tr>\n",
       "  </tbody>\n",
       "</table>\n",
       "<p>424 rows × 25 columns</p>\n",
       "</div>"
      ],
      "text/plain": [
       "        Lamp5     Meis2     Pvalb  Serpinf1      Sncg       Sst       Vip  \\\n",
       "0    0.101805  0.222524  0.302614  0.163599  0.122002  0.535885  0.170548   \n",
       "1    0.433535  0.065233  0.057713  0.232302  0.620823  0.351885  0.272972   \n",
       "2    0.552313  0.080393  0.019392  0.232100  0.188465  0.626230  0.528422   \n",
       "3    0.250333  0.124450  0.018548  0.083036  0.091009  0.667059  0.267902   \n",
       "4    0.318837  0.050211  0.021294  0.116680  0.162505  0.074857  0.388130   \n",
       "..        ...       ...       ...       ...       ...       ...       ...   \n",
       "419  0.002916  0.000000  0.022791  0.013974  0.002849  0.002823  0.000000   \n",
       "420  0.005589  0.000000  0.005976  0.014858  0.013354  0.095823  0.003662   \n",
       "421  0.008294  0.014807  0.013935  0.051451  0.001822  0.000654  0.000000   \n",
       "422  0.000000  0.002242  0.000000  0.003021  0.000000  0.001471  0.000000   \n",
       "423  0.000000  0.000000  0.000000  0.000000  0.000000  0.516964  0.000000   \n",
       "\n",
       "           CR   L2_3_IT        L4  ...        NP    Chrna6      Gad2  \\\n",
       "0    0.052602  0.000924  0.031791  ...  0.014566  0.293695  0.390926   \n",
       "1    0.031347  0.226994  0.000000  ...  0.551888  0.253789  0.031843   \n",
       "2    0.068763  0.293348  0.031445  ...  0.425850  0.276182  0.063267   \n",
       "3    0.016532  0.081395  0.000000  ...  0.140910  0.128628  0.490576   \n",
       "4    0.055558  0.065079  0.103319  ...  0.117359  0.133240  0.104529   \n",
       "..        ...       ...       ...  ...       ...       ...       ...   \n",
       "419  0.000000  0.000000  0.000000  ...  0.000000  0.055845  0.069322   \n",
       "420  0.000439  0.000000  0.000000  ...  0.046640  0.068762  0.361866   \n",
       "421  0.000000  0.000000  0.000000  ...  0.000000  0.126891  0.021096   \n",
       "422  0.000000  0.000000  0.000000  ...  0.000000  0.014000  0.000073   \n",
       "423  0.000000  0.000000  0.000000  ...  0.011429  0.638192  0.023831   \n",
       "\n",
       "          LGv   Slc17a6   Slc17a7     Astro     Macro     Oligo      Endo  \n",
       "0    0.119970  0.054485  0.080485  0.205020  0.153997  0.220310  0.023048  \n",
       "1    0.163988  0.000000  0.042441  0.320721  0.338157  0.060833  0.073400  \n",
       "2    0.313050  0.003337  0.105231  0.459888  0.287689  0.047535  0.042527  \n",
       "3    0.388156  0.001695  0.015331  0.312148  0.267270  0.177148  0.036023  \n",
       "4    0.253774  0.027823  0.010218  0.080132  0.149537  0.100476  0.036720  \n",
       "..        ...       ...       ...       ...       ...       ...       ...  \n",
       "419  0.064390  0.727708  0.000000  0.062062  0.094632  0.215801  0.154713  \n",
       "420  0.061606  0.400586  0.000000  0.129010  0.154733  0.367528  0.090773  \n",
       "421  0.044091  0.729088  0.000000  0.075835  0.068349  0.340658  0.172590  \n",
       "422  0.000000  0.998757  0.000000  0.000000  0.025494  0.058646  0.249453  \n",
       "423  0.000000  0.527928  0.000000  0.075971  0.104869  0.182554  0.160314  \n",
       "\n",
       "[424 rows x 25 columns]"
      ]
     },
     "execution_count": 82,
     "metadata": {},
     "output_type": "execute_result"
    }
   ],
   "source": [
    "X"
   ]
  },
  {
   "cell_type": "code",
   "execution_count": 83,
   "id": "f62e9c7d",
   "metadata": {},
   "outputs": [
    {
     "data": {
      "text/plain": [
       "(424, 25)"
      ]
     },
     "execution_count": 83,
     "metadata": {},
     "output_type": "execute_result"
    }
   ],
   "source": [
    "X.shape"
   ]
  },
  {
   "cell_type": "code",
   "execution_count": 84,
   "id": "f2e35192",
   "metadata": {},
   "outputs": [
    {
     "data": {
      "text/plain": [
       "Index(['Lamp5', 'Meis2', 'Pvalb', 'Serpinf1', 'Sncg', 'Sst', 'Vip', 'CR',\n",
       "       'L2_3_IT', 'L4', 'L5_IT', 'L5_PT', 'L6_CT', 'L6_IT', 'L6b', 'NP',\n",
       "       'Chrna6', 'Gad2', 'LGv', 'Slc17a6', 'Slc17a7', 'Astro', 'Macro',\n",
       "       'Oligo', 'Endo'],\n",
       "      dtype='object')"
      ]
     },
     "execution_count": 84,
     "metadata": {},
     "output_type": "execute_result"
    }
   ],
   "source": [
    "X.columns\n"
   ]
  },
  {
   "cell_type": "code",
   "execution_count": 85,
   "id": "696a6718",
   "metadata": {},
   "outputs": [],
   "source": [
    "y1 = np.array(eigenvector_centrality)"
   ]
  },
  {
   "cell_type": "code",
   "execution_count": 86,
   "id": "6beb67c8",
   "metadata": {},
   "outputs": [
    {
     "data": {
      "text/plain": [
       "(424,)"
      ]
     },
     "execution_count": 86,
     "metadata": {},
     "output_type": "execute_result"
    }
   ],
   "source": [
    "y1.shape"
   ]
  },
  {
   "cell_type": "markdown",
   "id": "101348b4",
   "metadata": {},
   "source": [
    "## Linear Regression"
   ]
  },
  {
   "cell_type": "code",
   "execution_count": 87,
   "id": "2b926349",
   "metadata": {},
   "outputs": [],
   "source": [
    "feature_names = [str(feature) for feature in X.columns]\n",
    "X.columns = feature_names\n",
    "\n"
   ]
  },
  {
   "cell_type": "code",
   "execution_count": 88,
   "id": "cae43604",
   "metadata": {},
   "outputs": [],
   "source": [
    "#X_train, X_test, y1_train, y1_test = train_test_split(X, y1,random_state=0)"
   ]
  },
  {
   "cell_type": "code",
   "execution_count": 89,
   "id": "fda53fc9",
   "metadata": {},
   "outputs": [],
   "source": [
    "# model.fit(X_train, Y_train)\n",
    "\n",
    "# Y_pred = model.predict(X_test)\n",
    "\n",
    "# r2_score = model.score(X_test, Y_test)\n",
    "\n",
    "# print('Coefficients:', model.coef_)\n",
    "# print('R-squared score:', r2_score)"
   ]
  },
  {
   "cell_type": "code",
   "execution_count": null,
   "id": "13202b5b",
   "metadata": {},
   "outputs": [],
   "source": []
  },
  {
   "cell_type": "code",
   "execution_count": 90,
   "id": "6127b56f",
   "metadata": {},
   "outputs": [
    {
     "name": "stdout",
     "output_type": "stream",
     "text": [
      "R-squared score: 0.21281044939380322\n"
     ]
    }
   ],
   "source": [
    "model = LinearRegression()\n",
    "\n",
    "model.fit(X, y1)\n",
    "\n",
    "# Y_pred = model.predict(X_test)\n",
    "\n",
    "r21 = model.score(X, y1)\n",
    "\n",
    "#print('Coefficients:', model.coef_)\n",
    "print('R-squared score:', r21)"
   ]
  },
  {
   "cell_type": "code",
   "execution_count": 91,
   "id": "c920ecb8",
   "metadata": {
    "scrolled": false
   },
   "outputs": [
    {
     "name": "stdout",
     "output_type": "stream",
     "text": [
      "Linear Regression:\n",
      " R-Squared = 0.2128\n",
      " MeanAbsoluteError = 0.0182\n",
      "Lasso Regression:\n",
      " R-Squared = 0.0000\n",
      " MeanAbsoluteError = 0.0191\n",
      "Ridge Regression:\n",
      " R-Squared = 0.2084\n",
      " MeanAbsoluteError = 0.0171\n",
      "ElasticNet Regression:\n",
      " R-Squared = 0.0000\n",
      " MeanAbsoluteError = 0.0191\n",
      "Decision Tree Regression:\n",
      " R-Squared = 1.0000\n",
      " MeanAbsoluteError = 0.0000\n",
      "Random Forest Regression:\n",
      " R-Squared = 0.8706\n",
      " MeanAbsoluteError = 0.0058\n",
      "Gradient Boosting Regression:\n",
      " R-Squared = 0.9811\n",
      " MeanAbsoluteError = 0.0042\n"
     ]
    }
   ],
   "source": [
    "models = {'Linear Regression': LinearRegression(),\n",
    "          'Lasso Regression': Lasso(),\n",
    "          'Ridge Regression': Ridge(),\n",
    "          'ElasticNet Regression': ElasticNet(),\n",
    "          'Decision Tree Regression': DecisionTreeRegressor(),\n",
    "          'Random Forest Regression': RandomForestRegressor(),\n",
    "          'Gradient Boosting Regression': GradientBoostingRegressor()}\n",
    "\n",
    "\n",
    "for name, model in models.items():\n",
    "    model.fit(X, y1)\n",
    "    y1_pred = model.predict(X)\n",
    "    r2 = r2_score(y1, y1_pred)\n",
    "    mae = mean_absolute_error(y1, y1_pred)\n",
    "    print(f\"{name}:\\n R-Squared = {r2:.4f}\\n MeanAbsoluteError = {mae:.4f}\")"
   ]
  },
  {
   "cell_type": "code",
   "execution_count": 92,
   "id": "cfe8d7ee",
   "metadata": {},
   "outputs": [],
   "source": [
    "y2 = np.array(closeness_centrality)"
   ]
  },
  {
   "cell_type": "code",
   "execution_count": null,
   "id": "fee03a94",
   "metadata": {},
   "outputs": [],
   "source": []
  },
  {
   "cell_type": "code",
   "execution_count": null,
   "id": "d7c9d9cd",
   "metadata": {},
   "outputs": [],
   "source": []
  },
  {
   "cell_type": "code",
   "execution_count": 93,
   "id": "9db135c1",
   "metadata": {},
   "outputs": [
    {
     "name": "stdout",
     "output_type": "stream",
     "text": [
      "Linear Regression:\n",
      " R-Squared = 0.2246\n",
      " MeanAbsoluteError = 0.0160\n",
      "Lasso Regression:\n",
      " R-Squared = 0.0000\n",
      " MeanAbsoluteError = 0.0183\n",
      "Ridge Regression:\n",
      " R-Squared = 0.2132\n",
      " MeanAbsoluteError = 0.0162\n",
      "ElasticNet Regression:\n",
      " R-Squared = 0.0000\n",
      " MeanAbsoluteError = 0.0183\n",
      "Decision Tree Regression:\n",
      " R-Squared = 1.0000\n",
      " MeanAbsoluteError = 0.0000\n",
      "Random Forest Regression:\n",
      " R-Squared = 0.9224\n",
      " MeanAbsoluteError = 0.0048\n",
      "Gradient Boosting Regression:\n",
      " R-Squared = 0.8626\n",
      " MeanAbsoluteError = 0.0065\n"
     ]
    }
   ],
   "source": [
    "#X_train, X_test, y2_train, y2_test = train_test_split(X, y2,random_state=0)\n",
    "\n",
    "models = {'Linear Regression': LinearRegression(),\n",
    "          'Lasso Regression': Lasso(),\n",
    "          'Ridge Regression': Ridge(),\n",
    "          'ElasticNet Regression': ElasticNet(),\n",
    "          'Decision Tree Regression': DecisionTreeRegressor(),\n",
    "          'Random Forest Regression': RandomForestRegressor(),\n",
    "          'Gradient Boosting Regression': GradientBoostingRegressor()}\n",
    "\n",
    "# Loop through the models and fit them to the training data, then make predictions on the test data and print out the R-squared and MAE\n",
    "for name, model in models.items():\n",
    "    model.fit(X, y2)\n",
    "    y2_pred = model.predict(X)\n",
    "    r2 = r2_score(y2, y2_pred)\n",
    "    mae = mean_absolute_error(y2, y2_pred)\n",
    "    print(f\"{name}:\\n R-Squared = {r2:.4f}\\n MeanAbsoluteError = {mae:.4f}\")"
   ]
  },
  {
   "cell_type": "code",
   "execution_count": 94,
   "id": "72935057",
   "metadata": {},
   "outputs": [],
   "source": [
    "y3 = np.array(degree_centrality)"
   ]
  },
  {
   "cell_type": "code",
   "execution_count": 95,
   "id": "d2513bae",
   "metadata": {},
   "outputs": [],
   "source": [
    "# model = LinearRegression()\n",
    "\n",
    "# model.fit(X, y3)\n",
    "\n",
    "# # Y_pred = model.predict(X_test)\n",
    "\n",
    "# r23 = model.score(X, y3)\n",
    "\n",
    "# #print('Coefficients:', model.coef_)\n",
    "# print('R-squared score:', r23)"
   ]
  },
  {
   "cell_type": "code",
   "execution_count": 96,
   "id": "924fa1ba",
   "metadata": {},
   "outputs": [
    {
     "name": "stdout",
     "output_type": "stream",
     "text": [
      "Linear Regression:\n",
      " R-Squared = 0.2342\n",
      " MeanAbsoluteError = 0.1373\n",
      "Lasso Regression:\n",
      " R-Squared = 0.0000\n",
      " MeanAbsoluteError = 0.1606\n",
      "Ridge Regression:\n",
      " R-Squared = 0.2291\n",
      " MeanAbsoluteError = 0.1377\n",
      "ElasticNet Regression:\n",
      " R-Squared = 0.0000\n",
      " MeanAbsoluteError = 0.1606\n",
      "Decision Tree Regression:\n",
      " R-Squared = 1.0000\n",
      " MeanAbsoluteError = 0.0000\n",
      "Random Forest Regression:\n",
      " R-Squared = 0.9201\n",
      " MeanAbsoluteError = 0.0432\n",
      "Gradient Boosting Regression:\n",
      " R-Squared = 0.8605\n",
      " MeanAbsoluteError = 0.0582\n"
     ]
    }
   ],
   "source": [
    "#X_train, X_test, y3_train, y3_test = train_test_split(X, y3,random_state=0)\n",
    "\n",
    "models = {'Linear Regression': LinearRegression(),\n",
    "          'Lasso Regression': Lasso(),\n",
    "          'Ridge Regression': Ridge(),\n",
    "          'ElasticNet Regression': ElasticNet(),\n",
    "          'Decision Tree Regression': DecisionTreeRegressor(),\n",
    "          'Random Forest Regression': RandomForestRegressor(),\n",
    "          'Gradient Boosting Regression': GradientBoostingRegressor()}\n",
    "\n",
    "# Loop through the models and fit them to the training data, then make predictions on the test data and print out the R-squared and MAE\n",
    "for name, model in models.items():\n",
    "    model.fit(X, y3)\n",
    "    y3_pred = model.predict(X)\n",
    "    r2 = r2_score(y3, y3_pred)\n",
    "    mae = mean_absolute_error(y3, y3_pred)\n",
    "    print(f\"{name}:\\n R-Squared = {r2:.4f}\\n MeanAbsoluteError = {mae:.4f}\")"
   ]
  },
  {
   "cell_type": "code",
   "execution_count": null,
   "id": "5e300a1b",
   "metadata": {},
   "outputs": [],
   "source": []
  },
  {
   "cell_type": "code",
   "execution_count": 97,
   "id": "19d0f448",
   "metadata": {},
   "outputs": [],
   "source": [
    "# EigenModes\n",
    "\n",
    "#Node Degree\n",
    "deg = np.sum(Connectome_direct_density, axis=1) \n",
    "\n",
    "#SIze of connectomwe_direct_density\n",
    "N = Connectome_direct_density.shape[0]\n",
    "\n",
    "K = 10\n",
    "\n",
    "# NxN Identity Matrix\n",
    "eye_N = np.identity(N)\n",
    "\n",
    "# inverse square root of degree vector\n",
    "deg_sqrt_inv = np.diag(1/np.sqrt(deg))\n",
    "\n",
    "# Laplacian matrix\n",
    "L = eye_N - np.dot(np.dot(deg_sqrt_inv, Connectome_direct_density), deg_sqrt_inv)\n",
    "\n",
    "# Eigen Vectors and Values\n",
    "evals, emodes = np.linalg.eigh(L)\n",
    "\n",
    "# evals and emodes are in increasing order by default\n",
    "evals = evals[::-1] # Reverse the order of eigenvalues to get top K\n",
    "emodes = emodes[:, ::-1] # Reverse the order of eigenvectors\n",
    "\n",
    "\n",
    "#Final eigenvectors and eigenvalues for top K\n",
    "evals_topk = evals[:K]\n",
    "emodes_topk = emodes[:, :K]"
   ]
  },
  {
   "cell_type": "code",
   "execution_count": null,
   "id": "1897e155",
   "metadata": {},
   "outputs": [],
   "source": []
  },
  {
   "cell_type": "code",
   "execution_count": 98,
   "id": "8b81aab2",
   "metadata": {},
   "outputs": [
    {
     "name": "stdout",
     "output_type": "stream",
     "text": [
      "evals are in decreasing order.\n"
     ]
    }
   ],
   "source": [
    "\n",
    "# evals and emodes in decreasing in decreasing order\n",
    "is_decreasing = all(evals[i] >= evals[i+1] for i in range(len(evals)-1))\n",
    "\n",
    "# Print the result\n",
    "if is_decreasing:\n",
    "    print(\"evals are in decreasing order.\")\n",
    "else:\n",
    "    print(\"evals are not in decreasing order.\")\n"
   ]
  },
  {
   "cell_type": "code",
   "execution_count": 99,
   "id": "94a41a45",
   "metadata": {},
   "outputs": [
    {
     "data": {
      "text/plain": [
       "(424, 10)"
      ]
     },
     "execution_count": 99,
     "metadata": {},
     "output_type": "execute_result"
    }
   ],
   "source": [
    "emodes_topk.shape"
   ]
  },
  {
   "cell_type": "code",
   "execution_count": 100,
   "id": "53be80d0",
   "metadata": {},
   "outputs": [
    {
     "data": {
      "text/plain": [
       "numpy.ndarray"
      ]
     },
     "execution_count": 100,
     "metadata": {},
     "output_type": "execute_result"
    }
   ],
   "source": [
    "type(emodes_topk)\n"
   ]
  },
  {
   "cell_type": "code",
   "execution_count": 101,
   "id": "db1740eb",
   "metadata": {
    "scrolled": true
   },
   "outputs": [
    {
     "name": "stdout",
     "output_type": "stream",
     "text": [
      "[[-0.0237506  -0.03504679 -0.1909018  ...  0.00022035 -0.07617891\n",
      "  -0.04432345]\n",
      " [ 0.06870839  0.05481727  0.19900606 ...  0.06570561  0.04185614\n",
      "   0.01944405]\n",
      " [ 0.03570873  0.01537449  0.0679598  ...  0.05257992  0.02202662\n",
      "   0.01207227]\n",
      " ...\n",
      " [ 0.02223228  0.1996116   0.01695308 ... -0.00068344 -0.06582886\n",
      "  -0.08052188]\n",
      " [ 0.07291771  0.01823592 -0.04479303 ...  0.06124998  0.04795618\n",
      "   0.06956363]\n",
      " [-0.0485078  -0.00319013  0.05833743 ... -0.02157378 -0.11783673\n",
      "  -0.1287408 ]]\n",
      "[[6.25776606e-01 4.71679950e-01 7.62973343e-05 ... 9.96390503e-01\n",
      "  1.17286451e-01 3.62596423e-01]\n",
      " [1.57866026e-01 2.60050607e-01 3.67462474e-05 ... 1.76879081e-01\n",
      "  3.89952652e-01 6.89721305e-01]\n",
      " [4.63344432e-01 7.52257330e-01 1.62455045e-01 ... 2.80036224e-01\n",
      "  6.51073192e-01 8.04243986e-01]\n",
      " ...\n",
      " [6.48033656e-01 3.47523385e-05 7.27780218e-01 ... 9.88805047e-01\n",
      "  1.76066624e-01 9.77538326e-02]\n",
      " [1.33865571e-01 7.08089445e-01 3.57528867e-01 ... 2.08148464e-01\n",
      "  3.24560304e-01 1.52743750e-01]\n",
      " [3.19019529e-01 9.47779842e-01 2.30638333e-01 ... 6.57786383e-01\n",
      "  1.51945984e-02 7.95054443e-03]]\n"
     ]
    }
   ],
   "source": [
    "# Coorelation\n",
    "\n",
    "R, p = np.zeros((emodes.shape[1], X.shape[1])), np.zeros((emodes.shape[1], X.shape[1]))\n",
    "for i in range(emodes.shape[1]):\n",
    "    for j in range(X.shape[1]):\n",
    "        R[i,j], p[i,j] = pearsonr(emodes[:,i], X.iloc[:,j])\n",
    "\n",
    "print(R) #Coorelation Coefficients\n",
    "print(p) # P-values\n"
   ]
  },
  {
   "cell_type": "code",
   "execution_count": 102,
   "id": "adc3a240",
   "metadata": {},
   "outputs": [],
   "source": [
    "abs_R = np.abs(R)  # take absolute values of R\n",
    "top_features_idx = abs_R.mean(axis=0).argsort()[::-1][:10]  # indices of top 10 features\n",
    "\n",
    "# get the names of the top 10 features\n",
    "top10_features = X.columns[top_features_idx].tolist()"
   ]
  },
  {
   "cell_type": "code",
   "execution_count": 103,
   "id": "b99f8e4f",
   "metadata": {},
   "outputs": [
    {
     "data": {
      "text/plain": [
       "['Vip',\n",
       " 'L5_PT',\n",
       " 'L6b',\n",
       " 'NP',\n",
       " 'Macro',\n",
       " 'Sst',\n",
       " 'Sncg',\n",
       " 'Chrna6',\n",
       " 'Serpinf1',\n",
       " 'Gad2']"
      ]
     },
     "execution_count": 103,
     "metadata": {},
     "output_type": "execute_result"
    }
   ],
   "source": [
    "top10_features"
   ]
  },
  {
   "cell_type": "code",
   "execution_count": 104,
   "id": "f343b816",
   "metadata": {},
   "outputs": [],
   "source": [
    "# Most Coorelated Features (TOp 10 EigenModes)\n",
    "\n",
    "# To-Do"
   ]
  },
  {
   "cell_type": "code",
   "execution_count": 105,
   "id": "7a90208f",
   "metadata": {},
   "outputs": [
    {
     "data": {
      "text/plain": [
       "(424, 25)"
      ]
     },
     "execution_count": 105,
     "metadata": {},
     "output_type": "execute_result"
    }
   ],
   "source": [
    "R.shape"
   ]
  },
  {
   "cell_type": "code",
   "execution_count": 303,
   "id": "451a904a",
   "metadata": {},
   "outputs": [],
   "source": [
    "#FUnction to Report top three features\n",
    "\n",
    "def get_top_features(model):\n",
    "    feature_importances = model.feature_importances_\n",
    "    feature_importances_dict = {}\n",
    "    for i, importance in enumerate(feature_importances):\n",
    "        feature_importances_dict[i] = importance\n",
    "    top_features = sorted(feature_importances_dict, key=feature_importances_dict.get, reverse=True)[:3]\n",
    "    return top_features\n"
   ]
  },
  {
   "cell_type": "code",
   "execution_count": null,
   "id": "5103a201",
   "metadata": {},
   "outputs": [],
   "source": []
  },
  {
   "cell_type": "markdown",
   "id": "9599a532",
   "metadata": {},
   "source": [
    "Notes:\n",
    "\n",
    "Doing 2 things\n",
    "\n",
    "1. Multiple Regressors with default parameters and reporting top three features to run DTR\n",
    "3. Decision Tree Regression with top 3 features with max_depth = 2"
   ]
  },
  {
   "cell_type": "code",
   "execution_count": null,
   "id": "0276f27d",
   "metadata": {},
   "outputs": [],
   "source": []
  },
  {
   "cell_type": "code",
   "execution_count": 106,
   "id": "714ddf4a",
   "metadata": {},
   "outputs": [
    {
     "data": {
      "text/plain": [
       "(424,)"
      ]
     },
     "execution_count": 106,
     "metadata": {},
     "output_type": "execute_result"
    }
   ],
   "source": [
    "y4 = emodes_topk[:, 0]\n",
    "y4.shape"
   ]
  },
  {
   "cell_type": "code",
   "execution_count": null,
   "id": "5e2920d1",
   "metadata": {},
   "outputs": [],
   "source": []
  },
  {
   "cell_type": "code",
   "execution_count": 304,
   "id": "25183ef0",
   "metadata": {},
   "outputs": [
    {
     "name": "stdout",
     "output_type": "stream",
     "text": [
      "DecisionTreeReg with top three features:\n",
      " R-Squared = 0.5998\n",
      " MeanAbsoluteError = 0.0137\n",
      "\n",
      "Feature Importance: [0.         0.         0.84849035 0.         0.         0.\n",
      " 0.         0.         0.         0.         0.         0.\n",
      " 0.         0.         0.         0.         0.15150965 0.\n",
      " 0.         0.         0.         0.         0.         0.\n",
      " 0.        ]\n"
     ]
    }
   ],
   "source": [
    "\n",
    "model = DecisionTreeRegressor(criterion='squared_error', splitter='best', max_depth=2, min_samples_split=2, min_samples_leaf=1, min_weight_fraction_leaf=0.0, max_features=None, random_state=None, max_leaf_nodes=None, min_impurity_decrease=0.0, ccp_alpha=0.0)\n",
    "\n",
    "model.fit(X, y4)\n",
    "y4_pred2 = model.predict(X)\n",
    "r2 = r2_score(y4, y4_pred2)\n",
    "mae = mean_absolute_error(y4, y4_pred2)\n",
    "print(f\"DecisionTreeReg with top three features:\\n R-Squared = {r2:.4f}\\n MeanAbsoluteError = {mae:.4f}\")\n",
    "\n",
    "if hasattr(model, \"feature_importances_\"):\n",
    "    print(f\"\\nFeature Importance: {model.feature_importances_}\")"
   ]
  },
  {
   "cell_type": "code",
   "execution_count": 305,
   "id": "76e731a9",
   "metadata": {
    "scrolled": true
   },
   "outputs": [
    {
     "name": "stdout",
     "output_type": "stream",
     "text": [
      "Linear Regression:\n",
      " R-Squared = 0.1059\n",
      " MeanAbsoluteError = 0.0187\n",
      "\n",
      "Lasso Regression:\n",
      " R-Squared = 0.0000\n",
      " MeanAbsoluteError = 0.0154\n",
      "\n",
      "Decision Tree Regression:\n",
      " R-Squared = 1.0000\n",
      " MeanAbsoluteError = 0.0000\n",
      "\n",
      "\n",
      "Feature Importance: [2.21129689e-03 3.01342083e-04 5.12884169e-01 6.78232339e-02\n",
      " 1.59289340e-03 6.09023687e-02 1.95874759e-03 3.77569911e-04\n",
      " 6.36127833e-04 2.43487289e-03 8.73510475e-03 3.37813844e-03\n",
      " 4.27387167e-03 2.59578403e-03 3.72912732e-03 4.82969366e-02\n",
      " 1.06353454e-01 1.57468989e-02 2.74289686e-02 4.22694159e-02\n",
      " 1.24066711e-03 3.93836791e-02 2.26053170e-02 2.13796934e-02\n",
      " 1.46032090e-03]\n",
      "\n",
      "Top Three Features: ['Pvalb', 'Chrna6', 'Serpinf1']\n",
      "\n",
      "Random Forest Regression:\n",
      " R-Squared = 0.7906\n",
      " MeanAbsoluteError = 0.0076\n",
      "\n",
      "\n",
      "Feature Importance: [0.0096916  0.03259118 0.18891772 0.02039387 0.0211544  0.05511087\n",
      " 0.01733693 0.04325611 0.05193796 0.00486281 0.02246162 0.05090261\n",
      " 0.01467683 0.00993542 0.01193632 0.01358384 0.12309492 0.01643408\n",
      " 0.03270707 0.08851155 0.00897452 0.06326482 0.04218793 0.02242979\n",
      " 0.03364522]\n",
      "\n",
      "Top Three Features: ['Pvalb', 'Chrna6', 'Slc17a6']\n",
      "\n",
      "Gradient Boosting Regression:\n",
      " R-Squared = 0.9598\n",
      " MeanAbsoluteError = 0.0054\n",
      "\n",
      "\n",
      "Feature Importance: [0.05749917 0.01922496 0.2450081  0.0044624  0.02431088 0.05506932\n",
      " 0.00121517 0.01702886 0.21875018 0.00140653 0.00718216 0.07311816\n",
      " 0.0078251  0.00118327 0.00483416 0.00558713 0.10068695 0.00601856\n",
      " 0.01426677 0.06521055 0.00112055 0.02663267 0.02633767 0.00982931\n",
      " 0.00619144]\n",
      "\n",
      "Top Three Features: ['Pvalb', 'L2_3_IT', 'Chrna6']\n",
      "\n"
     ]
    }
   ],
   "source": [
    "#X_train, X_test, y4_train, y4_test = train_test_split(X, y4,random_state=0)\n",
    "\n",
    "\n",
    "models = {'Linear Regression': LinearRegression(),\n",
    "          'Lasso Regression': Lasso(),\n",
    "          'Decision Tree Regression': DecisionTreeRegressor(),\n",
    "          'Random Forest Regression': RandomForestRegressor(),\n",
    "          'Gradient Boosting Regression': GradientBoostingRegressor()}\n",
    "\n",
    "for name, model in models.items():\n",
    "    model.fit(X, y4)\n",
    "    y4_pred = model.predict(X)\n",
    "    r2 = r2_score(y4, y4_pred)\n",
    "    mae = mean_absolute_error(y4, y4_pred)\n",
    "    print(f\"{name}:\\n R-Squared = {r2:.4f}\\n MeanAbsoluteError = {mae:.4f}\\n\")\n",
    "    \n",
    "    if hasattr(model,\"feature_importances_\"):\n",
    "        print(f\"\\nFeature Importance: {model.feature_importances_}\")\n",
    "        \n",
    "        top_features = get_top_features(model)\n",
    "        print(f\"\\nTop Three Features: {[X.columns[i] for i in top_features]}\")\n",
    "        print()\n"
   ]
  },
  {
   "cell_type": "code",
   "execution_count": 306,
   "id": "09757beb",
   "metadata": {},
   "outputs": [
    {
     "name": "stdout",
     "output_type": "stream",
     "text": [
      "DecisionTreeReg with top three features:\n",
      " R-Squared = 0.5998\n",
      " MeanAbsoluteError = 0.0137\n",
      "\n",
      "Feature Importance: [0.84849035 0.15150965 0.        ]\n"
     ]
    }
   ],
   "source": [
    "\n",
    "model = DecisionTreeRegressor(criterion='squared_error', splitter='best', max_depth=2, min_samples_split=2, min_samples_leaf=1, min_weight_fraction_leaf=0.0, max_features=None, random_state=42, max_leaf_nodes=None, min_impurity_decrease=0.0, ccp_alpha=0.0)\n",
    "\n",
    "model.fit(X.loc[:, ['Pvalb', 'Chrna6', 'Serpinf1']], y4)\n",
    "y4_pred2 = model.predict(X.loc[:, ['Pvalb', 'Chrna6', 'Serpinf1']])\n",
    "r2 = r2_score(y4, y4_pred2)\n",
    "mae = mean_absolute_error(y4, y4_pred2)\n",
    "print(f\"DecisionTreeReg with top three features:\\n R-Squared = {r2:.4f}\\n MeanAbsoluteError = {mae:.4f}\")\n",
    "\n",
    "if hasattr(model, \"feature_importances_\"):\n",
    "    print(f\"\\nFeature Importance: {model.feature_importances_}\")\n"
   ]
  },
  {
   "cell_type": "code",
   "execution_count": null,
   "id": "8d494e7c",
   "metadata": {},
   "outputs": [],
   "source": []
  },
  {
   "cell_type": "code",
   "execution_count": 184,
   "id": "2c4d6900",
   "metadata": {},
   "outputs": [
    {
     "data": {
      "text/plain": [
       "(424,)"
      ]
     },
     "execution_count": 184,
     "metadata": {},
     "output_type": "execute_result"
    }
   ],
   "source": [
    "#Second Eigenmode\n",
    "\n",
    "y5 = emodes_topk[:, 1]\n",
    "y5.shape"
   ]
  },
  {
   "cell_type": "code",
   "execution_count": null,
   "id": "2d19494c",
   "metadata": {},
   "outputs": [],
   "source": []
  },
  {
   "cell_type": "code",
   "execution_count": null,
   "id": "7ea642c6",
   "metadata": {},
   "outputs": [],
   "source": []
  },
  {
   "cell_type": "code",
   "execution_count": 317,
   "id": "bae4698f",
   "metadata": {
    "scrolled": true
   },
   "outputs": [
    {
     "name": "stdout",
     "output_type": "stream",
     "text": [
      "Linear Regression:\n",
      " R-Squared = 0.1081\n",
      " MeanAbsoluteError = 0.0155\n",
      "\n",
      "Lasso Regression:\n",
      " R-Squared = 0.0000\n",
      " MeanAbsoluteError = 0.0108\n",
      "\n",
      "Decision Tree Regression:\n",
      " R-Squared = 1.0000\n",
      " MeanAbsoluteError = 0.0000\n",
      "\n",
      "\n",
      "Feature Importance: [6.00702822e-06 2.46770573e-02 4.95285257e-01 1.69558974e-03\n",
      " 7.50683361e-05 1.44825812e-05 1.15260374e-02 2.48440548e-03\n",
      " 3.52080852e-05 2.03665685e-05 1.24644824e-03 4.19981246e-05\n",
      " 6.92153712e-04 3.65316538e-04 2.09998319e-05 7.69580110e-03\n",
      " 1.41579023e-01 1.75001981e-01 8.14088277e-05 1.04582159e-01\n",
      " 5.88131978e-03 2.29814274e-03 3.09129320e-05 1.54917480e-02\n",
      " 9.17110842e-03]\n",
      "\n",
      "Top Three Features: ['Pvalb', 'Gad2', 'Chrna6']\n",
      "\n",
      "Random Forest Regression:\n",
      " R-Squared = 0.7831\n",
      " MeanAbsoluteError = 0.0059\n",
      "\n",
      "\n",
      "Feature Importance: [0.00677882 0.01459425 0.14446346 0.00511407 0.00804746 0.05955278\n",
      " 0.02715229 0.03342169 0.01190632 0.00996326 0.00078396 0.03439598\n",
      " 0.00126217 0.00122704 0.0087161  0.0262245  0.24221173 0.05029819\n",
      " 0.03677843 0.15369553 0.02943718 0.01482723 0.01794619 0.03301978\n",
      " 0.0281816 ]\n",
      "\n",
      "Top Three Features: ['Chrna6', 'Slc17a6', 'Pvalb']\n",
      "\n",
      "Gradient Boosting Regression:\n",
      " R-Squared = 0.9896\n",
      " MeanAbsoluteError = 0.0026\n",
      "\n",
      "\n",
      "Feature Importance: [3.91188803e-03 3.17314411e-02 2.89861103e-01 2.04444681e-03\n",
      " 2.32580801e-02 2.42234104e-02 9.79291773e-04 1.36010709e-02\n",
      " 5.38744344e-04 8.95119342e-04 1.58932565e-04 1.88617430e-01\n",
      " 2.08700944e-04 1.39769099e-04 1.76134464e-03 3.04584233e-03\n",
      " 1.27859943e-01 1.18598795e-01 1.85538407e-02 1.20409836e-01\n",
      " 7.27246480e-03 6.01576266e-03 6.91829486e-03 6.79821468e-03\n",
      " 2.59623262e-03]\n",
      "\n",
      "Top Three Features: ['Pvalb', 'L5_PT', 'Chrna6']\n",
      "\n"
     ]
    }
   ],
   "source": [
    "\n",
    "\n",
    "models = {'Linear Regression': LinearRegression(),\n",
    "          'Lasso Regression': Lasso(),\n",
    "          'Decision Tree Regression': DecisionTreeRegressor(),\n",
    "          'Random Forest Regression': RandomForestRegressor(),\n",
    "          'Gradient Boosting Regression': GradientBoostingRegressor()}\n",
    "\n",
    "for name, model in models.items():\n",
    "    model.fit(X, y5)\n",
    "    y5_pred = model.predict(X)\n",
    "    r2 = r2_score(y5, y5_pred)\n",
    "    mae = mean_absolute_error(y5, y5_pred)\n",
    "    print(f\"{name}:\\n R-Squared = {r2:.4f}\\n MeanAbsoluteError = {mae:.4f}\\n\")\n",
    "    \n",
    "    if hasattr(model,\"feature_importances_\"):\n",
    "        print(f\"\\nFeature Importance: {model.feature_importances_}\")\n",
    "        \n",
    "        top_features = get_top_features(model)\n",
    "        print(f\"\\nTop Three Features: {[X.columns[i] for i in top_features]}\")\n",
    "        print()\n"
   ]
  },
  {
   "cell_type": "markdown",
   "id": "7b4b4fe6",
   "metadata": {},
   "source": [
    "Note:\n",
    "\n",
    "The above is very unstable, all of the top three features are changing for every run"
   ]
  },
  {
   "cell_type": "code",
   "execution_count": 318,
   "id": "67cfa9a8",
   "metadata": {},
   "outputs": [
    {
     "name": "stdout",
     "output_type": "stream",
     "text": [
      "DecisionTreeReg with top three features:\n",
      " R-Squared = 0.5640\n",
      " MeanAbsoluteError = 0.0098\n",
      "\n",
      "Feature Importance: [0.88412231 0.         0.11587769]\n"
     ]
    }
   ],
   "source": [
    "\n",
    "model = DecisionTreeRegressor(criterion='squared_error', splitter='best', max_depth=2, min_samples_split=2, min_samples_leaf=1, min_weight_fraction_leaf=0.0, max_features=None, random_state=None, max_leaf_nodes=None, min_impurity_decrease=0.0, ccp_alpha=0.0)\n",
    "\n",
    "model.fit(X.loc[:, ['Pvalb', 'Gad2', 'Chrna6']], y5)\n",
    "y5_pred2 = model.predict(X.loc[:, ['Pvalb', 'Gad2', 'Chrna6']])\n",
    "r2 = r2_score(y5, y5_pred2)\n",
    "mae = mean_absolute_error(y5, y5_pred2)\n",
    "print(f\"DecisionTreeReg with top three features:\\n R-Squared = {r2:.4f}\\n MeanAbsoluteError = {mae:.4f}\")\n",
    "\n",
    "if hasattr(model, \"feature_importances_\"):\n",
    "    print(f\"\\nFeature Importance: {model.feature_importances_}\")"
   ]
  },
  {
   "cell_type": "markdown",
   "id": "5542d7d8",
   "metadata": {},
   "source": [
    "Note:\n",
    "\n",
    "By my observation, if the top three features have Pvalb, we have decent R2 square with Pvalb being the most important\n",
    "\n",
    "But if Pvalb is not in top three, we poor R2 score. (interesting)"
   ]
  },
  {
   "cell_type": "code",
   "execution_count": null,
   "id": "0e117ff1",
   "metadata": {},
   "outputs": [],
   "source": []
  },
  {
   "cell_type": "code",
   "execution_count": null,
   "id": "4848c59f",
   "metadata": {},
   "outputs": [],
   "source": []
  },
  {
   "cell_type": "code",
   "execution_count": 319,
   "id": "8771c749",
   "metadata": {},
   "outputs": [
    {
     "data": {
      "text/plain": [
       "(424,)"
      ]
     },
     "execution_count": 319,
     "metadata": {},
     "output_type": "execute_result"
    }
   ],
   "source": [
    "# THird EigenMode\n",
    "\n",
    "y6 = emodes_topk[:,2]\n",
    "y6.shape"
   ]
  },
  {
   "cell_type": "code",
   "execution_count": 216,
   "id": "335f0d4e",
   "metadata": {},
   "outputs": [],
   "source": []
  },
  {
   "cell_type": "code",
   "execution_count": 332,
   "id": "59dc743a",
   "metadata": {
    "scrolled": true
   },
   "outputs": [
    {
     "name": "stdout",
     "output_type": "stream",
     "text": [
      "Linear Regression:\n",
      " R-Squared = 0.0434\n",
      " MeanAbsoluteError = 0.0117\n",
      "Lasso Regression:\n",
      " R-Squared = 0.0000\n",
      " MeanAbsoluteError = 0.0054\n",
      "Decision Tree Regression:\n",
      " R-Squared = 1.0000\n",
      " MeanAbsoluteError = 0.0000\n",
      "\n",
      "Feature Importance: [3.93255125e-04 4.44024256e-01 4.09306736e-01 2.29724455e-06\n",
      " 2.19118876e-04 3.12055269e-05 3.45008437e-05 3.41755594e-05\n",
      " 1.39498377e-03 9.53225881e-06 2.08436285e-04 4.22249701e-06\n",
      " 8.86531630e-06 3.76369434e-04 1.04737511e-04 7.22490417e-06\n",
      " 1.61715963e-04 8.25702448e-05 3.35746481e-05 1.19620622e-04\n",
      " 3.58911144e-02 1.04254699e-04 4.30819837e-04 5.86218696e-03\n",
      " 1.01154225e-01]\n",
      "\n",
      "Top Three Features: ['Meis2', 'Pvalb', 'Endo']\n",
      "\n",
      "Random Forest Regression:\n",
      " R-Squared = 0.8293\n",
      " MeanAbsoluteError = 0.0036\n",
      "\n",
      "Feature Importance: [0.02971213 0.14625107 0.19404633 0.00815533 0.0007616  0.00761219\n",
      " 0.02496784 0.00921501 0.01373929 0.00095586 0.00518098 0.01457491\n",
      " 0.00368639 0.00469574 0.01790233 0.02113011 0.15887434 0.01037815\n",
      " 0.0005192  0.00163998 0.06577911 0.05768172 0.00664012 0.02206092\n",
      " 0.17383934]\n",
      "\n",
      "Top Three Features: ['Pvalb', 'Endo', 'Chrna6']\n",
      "\n",
      "Gradient Boosting Regression:\n",
      " R-Squared = 0.9985\n",
      " MeanAbsoluteError = 0.0010\n",
      "\n",
      "Feature Importance: [6.12651999e-03 1.16140160e-01 3.88615502e-01 1.73472574e-04\n",
      " 1.05652103e-04 5.42292271e-05 6.63397848e-02 3.20652758e-05\n",
      " 1.66916258e-02 1.86572902e-04 7.22619902e-05 5.23805804e-04\n",
      " 2.26755306e-04 2.29180376e-05 6.86471904e-03 3.28718167e-03\n",
      " 1.95836823e-03 6.84836141e-03 2.96133128e-04 4.89743776e-03\n",
      " 6.21813508e-02 7.02637376e-02 8.39179219e-02 4.63489762e-03\n",
      " 1.59538565e-01]\n",
      "\n",
      "Top Three Features: ['Pvalb', 'Endo', 'Meis2']\n",
      "\n"
     ]
    }
   ],
   "source": [
    "#X_train, X_test, y6_train, y6_test = train_test_split(X, y6,random_state=0)\n",
    "\n",
    "models = {'Linear Regression': LinearRegression(),\n",
    "          'Lasso Regression': Lasso(),\n",
    "          'Decision Tree Regression': DecisionTreeRegressor(),\n",
    "          'Random Forest Regression': RandomForestRegressor(),\n",
    "          'Gradient Boosting Regression': GradientBoostingRegressor()}\n",
    "\n",
    "# Loop through the models and fit them to the training data, then make predictions on the test data and print out the R-squared and MAE\n",
    "for name, model in models.items():\n",
    "    model.fit(X, y6)\n",
    "    y6_pred = model.predict(X)\n",
    "    r2 = r2_score(y6, y6_pred)\n",
    "    mae = mean_absolute_error(y6, y6_pred)\n",
    "    print(f\"{name}:\\n R-Squared = {r2:.4f}\\n MeanAbsoluteError = {mae:.4f}\")\n",
    "    \n",
    "    \n",
    "    if hasattr(model,\"feature_importances_\"):\n",
    "        print(f\"\\nFeature Importance: {model.feature_importances_}\")\n",
    "        \n",
    "        top_features = get_top_features(model)\n",
    "        print(f\"\\nTop Three Features: {[X.columns[i] for i in top_features]}\")\n",
    "        print()"
   ]
  },
  {
   "cell_type": "markdown",
   "id": "7ac96b5e",
   "metadata": {},
   "source": [
    "Note:\n",
    "    \n",
    "From observation, the above is unstable too,\n",
    "\n",
    "2 of the three are always changing but ENDO is always there in top three"
   ]
  },
  {
   "cell_type": "code",
   "execution_count": 334,
   "id": "d5c9bea4",
   "metadata": {},
   "outputs": [
    {
     "name": "stdout",
     "output_type": "stream",
     "text": [
      "DecisionTreeReg with top three features:\n",
      " R-Squared = 0.5377\n",
      " MeanAbsoluteError = 0.0051\n",
      "\n",
      "Feature Importance: [0.07779176 0.         0.92220824]\n"
     ]
    }
   ],
   "source": [
    "\n",
    "model = DecisionTreeRegressor(criterion='squared_error', splitter='best', max_depth=2, min_samples_split=2, min_samples_leaf=1, min_weight_fraction_leaf=0.0, max_features=None, random_state=None, max_leaf_nodes=None, min_impurity_decrease=0.0, ccp_alpha=0.0)\n",
    "\n",
    "model.fit(X.loc[:, ['Meis2', 'Pvalb', 'Endo']], y6)\n",
    "y6_pred2 = model.predict(X.loc[:, ['Meis2', 'Pvalb', 'Endo']])\n",
    "r2 = r2_score(y6, y6_pred2)\n",
    "mae = mean_absolute_error(y6, y6_pred2)\n",
    "print(f\"DecisionTreeReg with top three features:\\n R-Squared = {r2:.4f}\\n MeanAbsoluteError = {mae:.4f}\")\n",
    "\n",
    "if hasattr(model, \"feature_importances_\"):\n",
    "    print(f\"\\nFeature Importance: {model.feature_importances_}\")\n"
   ]
  },
  {
   "cell_type": "markdown",
   "id": "f6e01b0f",
   "metadata": {},
   "source": [
    "Note:\n",
    "\n",
    "The above is very unstable\n",
    "\n",
    "Sometimes Endo is the most important and sometimes Meis2 (or the other feature)\n",
    "\n",
    "But because Endo is always in top three of 25, ENDO is interesting for third eigenmode\n"
   ]
  },
  {
   "cell_type": "code",
   "execution_count": 335,
   "id": "da36f6f1",
   "metadata": {},
   "outputs": [
    {
     "data": {
      "text/plain": [
       "(424,)"
      ]
     },
     "execution_count": 335,
     "metadata": {},
     "output_type": "execute_result"
    }
   ],
   "source": [
    "# Fourth EigenMode\n",
    "\n",
    "y7 = emodes_topk[:,3]\n",
    "y7.shape"
   ]
  },
  {
   "cell_type": "code",
   "execution_count": 348,
   "id": "962136b7",
   "metadata": {
    "scrolled": true
   },
   "outputs": [
    {
     "name": "stdout",
     "output_type": "stream",
     "text": [
      "Linear Regression:\n",
      " R-Squared = 0.0886\n",
      " MeanAbsoluteError = 0.0139\n",
      "Lasso Regression:\n",
      " R-Squared = 0.0000\n",
      " MeanAbsoluteError = 0.0046\n",
      "Decision Tree Regression:\n",
      " R-Squared = 1.0000\n",
      " MeanAbsoluteError = 0.0000\n",
      "\n",
      "Feature Importance: [9.33495467e-06 6.55283135e-04 4.86695078e-01 2.64399830e-06\n",
      " 3.23154588e-05 1.00176177e-05 5.94625184e-05 3.68828962e-05\n",
      " 3.75231380e-04 3.75230771e-07 1.21226748e-03 1.20916035e-03\n",
      " 2.18240869e-05 1.74689911e-05 8.69840720e-06 2.72844571e-05\n",
      " 7.74165224e-04 5.58407333e-05 1.06672516e-04 4.37716026e-03\n",
      " 2.16340226e-06 5.99666358e-02 4.64408340e-05 1.76450963e-05\n",
      " 4.44279947e-01]\n",
      "\n",
      "Top Three Features: ['Pvalb', 'Endo', 'Astro']\n",
      "\n",
      "Random Forest Regression:\n",
      " R-Squared = 0.8444\n",
      " MeanAbsoluteError = 0.0032\n",
      "\n",
      "Feature Importance: [0.00960679 0.15843876 0.09508715 0.00425193 0.02396017 0.01738284\n",
      " 0.00491083 0.00113367 0.01588492 0.04604334 0.00160738 0.03070384\n",
      " 0.02781012 0.00640334 0.00683603 0.059292   0.0116013  0.05361172\n",
      " 0.00096015 0.00900305 0.08262146 0.10662416 0.07844086 0.05624015\n",
      " 0.09154406]\n",
      "\n",
      "Top Three Features: ['Meis2', 'Astro', 'Pvalb']\n",
      "\n",
      "Gradient Boosting Regression:\n",
      " R-Squared = 0.9993\n",
      " MeanAbsoluteError = 0.0007\n",
      "\n",
      "Feature Importance: [8.31322186e-02 5.36119855e-02 1.64505239e-01 3.99465803e-06\n",
      " 1.45825374e-04 1.29223619e-04 1.65810312e-04 4.89775381e-04\n",
      " 4.63588792e-03 3.13989702e-05 3.29880423e-05 7.80549252e-02\n",
      " 4.85416563e-05 5.90042410e-05 2.57214435e-04 9.51859650e-04\n",
      " 3.63620495e-04 8.27466905e-02 5.71864428e-05 1.57562462e-04\n",
      " 3.17196421e-04 2.42942813e-01 2.30839319e-01 1.86562005e-02\n",
      " 3.76635194e-02]\n",
      "\n",
      "Top Three Features: ['Astro', 'Macro', 'Pvalb']\n",
      "\n"
     ]
    }
   ],
   "source": [
    "#X_train, X_test, y6_train, y6_test = train_test_split(X, y6,random_state=0)\n",
    "\n",
    "models = {'Linear Regression': LinearRegression(),\n",
    "          'Lasso Regression': Lasso(),\n",
    "          'Decision Tree Regression': DecisionTreeRegressor(),\n",
    "          'Random Forest Regression': RandomForestRegressor(),\n",
    "          'Gradient Boosting Regression': GradientBoostingRegressor()}\n",
    "\n",
    "for name, model in models.items():\n",
    "    model.fit(X, y7)\n",
    "    y7_pred = model.predict(X)\n",
    "    r2 = r2_score(y7, y7_pred)\n",
    "    mae = mean_absolute_error(y7, y7_pred)\n",
    "    print(f\"{name}:\\n R-Squared = {r2:.4f}\\n MeanAbsoluteError = {mae:.4f}\")\n",
    "    \n",
    "    \n",
    "    if hasattr(model,\"feature_importances_\"):\n",
    "        print(f\"\\nFeature Importance: {model.feature_importances_}\")\n",
    "        \n",
    "        top_features = get_top_features(model)\n",
    "        print(f\"\\nTop Three Features: {[X.columns[i] for i in top_features]}\")\n",
    "        print()"
   ]
  },
  {
   "cell_type": "markdown",
   "id": "d91e2a0c",
   "metadata": {},
   "source": [
    "Note:\n",
    "    \n",
    "From observation, the above is unstable too,\n",
    "\n",
    "2 of the three are always changing but ASTRO is always there in top three"
   ]
  },
  {
   "cell_type": "code",
   "execution_count": 355,
   "id": "747d642f",
   "metadata": {
    "scrolled": true
   },
   "outputs": [
    {
     "name": "stdout",
     "output_type": "stream",
     "text": [
      "DecisionTreeReg with top three features:\n",
      " R-Squared = 0.5197\n",
      " MeanAbsoluteError = 0.0043\n",
      "\n",
      "Feature Importance: [0.04725078 0.         0.95274922]\n"
     ]
    }
   ],
   "source": [
    "\n",
    "model = DecisionTreeRegressor(criterion='squared_error', splitter='best', max_depth=2, min_samples_split=2, min_samples_leaf=1, min_weight_fraction_leaf=0.0, max_features=None, random_state=None, max_leaf_nodes=None, min_impurity_decrease=0.0, ccp_alpha=0.0)\n",
    "\n",
    "model.fit(X.loc[:, ['Pvalb', 'Endo', 'Astro']], y7)\n",
    "y7_pred2 = model.predict(X.loc[:, ['Pvalb', 'Endo', 'Astro']])\n",
    "r2 = r2_score(y7, y7_pred2)\n",
    "mae = mean_absolute_error(y7, y7_pred2)\n",
    "print(f\"DecisionTreeReg with top three features:\\n R-Squared = {r2:.4f}\\n MeanAbsoluteError = {mae:.4f}\")\n",
    "\n",
    "if hasattr(model, \"feature_importances_\"):\n",
    "    print(f\"\\nFeature Importance: {model.feature_importances_}\")\n"
   ]
  },
  {
   "cell_type": "markdown",
   "id": "25c7d494",
   "metadata": {},
   "source": [
    "Note:\n",
    "\n",
    "The above is very unstable\n",
    "\n",
    "Sometimes Astro is the most important and sometimes Endo (or the other feature)\n",
    "\n",
    "But because Astro is always in top three of 25, Astro is interesting for fourth eigenmode"
   ]
  },
  {
   "cell_type": "code",
   "execution_count": 369,
   "id": "2eace550",
   "metadata": {},
   "outputs": [
    {
     "data": {
      "text/plain": [
       "(424,)"
      ]
     },
     "execution_count": 369,
     "metadata": {},
     "output_type": "execute_result"
    }
   ],
   "source": [
    "# Fifth EigenMode\n",
    "\n",
    "y8 = emodes_topk[:,4]\n",
    "y8.shape"
   ]
  },
  {
   "cell_type": "code",
   "execution_count": 396,
   "id": "897f5f27",
   "metadata": {},
   "outputs": [
    {
     "name": "stdout",
     "output_type": "stream",
     "text": [
      "Linear Regression:\n",
      " R-Squared = 0.1699\n",
      " MeanAbsoluteError = 0.0174\n",
      "Lasso Regression:\n",
      " R-Squared = 0.0000\n",
      " MeanAbsoluteError = 0.0081\n",
      "Decision Tree Regression:\n",
      " R-Squared = 1.0000\n",
      " MeanAbsoluteError = 0.0000\n",
      "\n",
      "Feature Importance: [2.57476730e-06 1.17068367e-04 1.81101055e-04 7.94223031e-05\n",
      " 2.01439826e-01 3.10689646e-03 4.86896791e-04 1.94683001e-03\n",
      " 1.96233259e-07 8.36207962e-03 4.68253688e-02 2.53726302e-05\n",
      " 1.52776480e-03 2.37793724e-03 1.22659750e-05 9.55190700e-05\n",
      " 4.45379408e-04 5.08564431e-02 4.13548521e-01 5.57345775e-04\n",
      " 3.76811058e-03 2.11244273e-01 4.04737510e-04 3.02838381e-03\n",
      " 4.95596863e-02]\n",
      "\n",
      "Top Three Features: ['LGv', 'Astro', 'Sncg']\n",
      "\n",
      "Random Forest Regression:\n",
      " R-Squared = 0.8667\n",
      " MeanAbsoluteError = 0.0037\n",
      "\n",
      "Feature Importance: [0.01021118 0.00363747 0.01470906 0.01163548 0.06061566 0.00780706\n",
      " 0.0370872  0.01353613 0.01328322 0.07285102 0.02434655 0.01281929\n",
      " 0.00874332 0.01596881 0.0295114  0.04333103 0.01293783 0.04169308\n",
      " 0.21354787 0.00183274 0.0057803  0.24864788 0.06418486 0.01433096\n",
      " 0.0169506 ]\n",
      "\n",
      "Top Three Features: ['Astro', 'LGv', 'L4']\n",
      "\n",
      "Gradient Boosting Regression:\n",
      " R-Squared = 0.9977\n",
      " MeanAbsoluteError = 0.0014\n",
      "\n",
      "Feature Importance: [0.00463897 0.01076451 0.00157758 0.00637833 0.15815721 0.00037402\n",
      " 0.0572188  0.00621904 0.0317698  0.05240821 0.00959659 0.00258062\n",
      " 0.00482    0.00022435 0.00271049 0.14870782 0.01716804 0.08261027\n",
      " 0.1096409  0.02544152 0.00204355 0.21682548 0.03057507 0.01325132\n",
      " 0.00429751]\n",
      "\n",
      "Top Three Features: ['Astro', 'Sncg', 'NP']\n",
      "\n"
     ]
    }
   ],
   "source": [
    "#X_train, X_test, y6_train, y6_test = train_test_split(X, y6,random_state=0)\n",
    "\n",
    "models = {'Linear Regression': LinearRegression(),\n",
    "          'Lasso Regression': Lasso(),\n",
    "          'Decision Tree Regression': DecisionTreeRegressor(),\n",
    "          'Random Forest Regression': RandomForestRegressor(),\n",
    "          'Gradient Boosting Regression': GradientBoostingRegressor()}\n",
    "\n",
    "for name, model in models.items():\n",
    "    model.fit(X, y8)\n",
    "    y8_pred = model.predict(X)\n",
    "    r2 = r2_score(y8, y8_pred)\n",
    "    mae = mean_absolute_error(y8, y8_pred)\n",
    "    print(f\"{name}:\\n R-Squared = {r2:.4f}\\n MeanAbsoluteError = {mae:.4f}\")\n",
    "    \n",
    "    \n",
    "    if hasattr(model,\"feature_importances_\"):\n",
    "        print(f\"\\nFeature Importance: {model.feature_importances_}\")\n",
    "        \n",
    "        top_features = get_top_features(model)\n",
    "        print(f\"\\nTop Three Features: {[X.columns[i] for i in top_features]}\")\n",
    "        print()"
   ]
  },
  {
   "cell_type": "markdown",
   "id": "b7a88437",
   "metadata": {},
   "source": [
    "THe above is same as the fourth eigenmode.\n",
    "\n",
    "Features changing, but ASTRO always there"
   ]
  },
  {
   "cell_type": "code",
   "execution_count": 404,
   "id": "39a748de",
   "metadata": {
    "scrolled": true
   },
   "outputs": [
    {
     "name": "stdout",
     "output_type": "stream",
     "text": [
      "DecisionTreeReg with top three features:\n",
      " R-Squared = 0.4422\n",
      " MeanAbsoluteError = 0.0077\n",
      "\n",
      "Feature Importance: [0.15377816 0.84622184 0.        ]\n"
     ]
    }
   ],
   "source": [
    "\n",
    "model = DecisionTreeRegressor(criterion='squared_error', splitter='best', max_depth=2, min_samples_split=2, min_samples_leaf=1, min_weight_fraction_leaf=0.0, max_features=None, random_state=None, max_leaf_nodes=None, min_impurity_decrease=0.0, ccp_alpha=0.0)\n",
    "\n",
    "model.fit(X.loc[:, ['LGv', 'Astro', 'Sncg']], y8)\n",
    "y8_pred2 = model.predict(X.loc[:, ['LGv', 'Astro', 'Sncg']])\n",
    "r2 = r2_score(y8, y8_pred2)\n",
    "mae = mean_absolute_error(y8, y8_pred2)\n",
    "print(f\"DecisionTreeReg with top three features:\\n R-Squared = {r2:.4f}\\n MeanAbsoluteError = {mae:.4f}\")\n",
    "\n",
    "if hasattr(model, \"feature_importances_\"):\n",
    "    print(f\"\\nFeature Importance: {model.feature_importances_}\")\n"
   ]
  },
  {
   "cell_type": "markdown",
   "id": "cc5a91bf",
   "metadata": {},
   "source": [
    "Behaving similarly to 4th Eigenmode\n",
    "\n",
    "ASTRO important is interesting"
   ]
  },
  {
   "cell_type": "code",
   "execution_count": null,
   "id": "2aab3088",
   "metadata": {},
   "outputs": [],
   "source": []
  },
  {
   "cell_type": "code",
   "execution_count": 371,
   "id": "a658c690",
   "metadata": {},
   "outputs": [
    {
     "data": {
      "text/plain": [
       "(424,)"
      ]
     },
     "execution_count": 371,
     "metadata": {},
     "output_type": "execute_result"
    }
   ],
   "source": [
    "# Sixth EigenMode\n",
    "\n",
    "y9 = emodes_topk[:,5]\n",
    "y9.shape"
   ]
  },
  {
   "cell_type": "code",
   "execution_count": 465,
   "id": "a3b894f6",
   "metadata": {},
   "outputs": [
    {
     "name": "stdout",
     "output_type": "stream",
     "text": [
      "Linear Regression:\n",
      " R-Squared = 0.0420\n",
      " MeanAbsoluteError = 0.0203\n",
      "Lasso Regression:\n",
      " R-Squared = 0.0000\n",
      " MeanAbsoluteError = 0.0196\n",
      "Decision Tree Regression:\n",
      " R-Squared = 1.0000\n",
      " MeanAbsoluteError = 0.0000\n",
      "\n",
      "Feature Importance: [0.00151357 0.06991561 0.01499385 0.00879915 0.06202816 0.00196401\n",
      " 0.04342677 0.03682959 0.00501295 0.00588553 0.06080074 0.00498633\n",
      " 0.00196423 0.00847653 0.03893333 0.09019134 0.00595301 0.00644941\n",
      " 0.07109928 0.01590536 0.03726336 0.06940924 0.1614928  0.15781406\n",
      " 0.01889176]\n",
      "\n",
      "Top Three Features: ['Macro', 'Oligo', 'NP']\n",
      "\n",
      "Random Forest Regression:\n",
      " R-Squared = 0.8487\n",
      " MeanAbsoluteError = 0.0083\n",
      "\n",
      "Feature Importance: [0.02617478 0.02549972 0.02035761 0.01935725 0.02837067 0.03933587\n",
      " 0.07501743 0.04749642 0.02057072 0.04729965 0.0233081  0.01173697\n",
      " 0.03068192 0.01629774 0.02500909 0.02860589 0.04428516 0.0364791\n",
      " 0.09945183 0.03728204 0.02747579 0.0413888  0.11187533 0.07634588\n",
      " 0.04029622]\n",
      "\n",
      "Top Three Features: ['Macro', 'LGv', 'Oligo']\n",
      "\n",
      "Gradient Boosting Regression:\n",
      " R-Squared = 0.9108\n",
      " MeanAbsoluteError = 0.0093\n",
      "\n",
      "Feature Importance: [0.02037492 0.03042578 0.00129503 0.019063   0.03276148 0.06134754\n",
      " 0.03145154 0.01335882 0.01615788 0.05914075 0.03099172 0.01699811\n",
      " 0.01925893 0.01564541 0.01022843 0.04517972 0.02708246 0.04866306\n",
      " 0.10348626 0.0388294  0.04342795 0.0272201  0.13647994 0.07839244\n",
      " 0.07273934]\n",
      "\n",
      "Top Three Features: ['Macro', 'LGv', 'Oligo']\n",
      "\n"
     ]
    }
   ],
   "source": [
    "#X_train, X_test, y6_train, y6_test = train_test_split(X, y6,random_state=0)\n",
    "\n",
    "models = {'Linear Regression': LinearRegression(),\n",
    "          'Lasso Regression': Lasso(),\n",
    "          'Decision Tree Regression': DecisionTreeRegressor(),\n",
    "          'Random Forest Regression': RandomForestRegressor(),\n",
    "          'Gradient Boosting Regression': GradientBoostingRegressor()}\n",
    "\n",
    "for name, model in models.items():\n",
    "    model.fit(X, y9)\n",
    "    y9_pred = model.predict(X)\n",
    "    r2 = r2_score(y9, y9_pred)\n",
    "    mae = mean_absolute_error(y9, y9_pred)\n",
    "    print(f\"{name}:\\n R-Squared = {r2:.4f}\\n MeanAbsoluteError = {mae:.4f}\")\n",
    "    \n",
    "    \n",
    "    if hasattr(model,\"feature_importances_\"):\n",
    "        print(f\"\\nFeature Importance: {model.feature_importances_}\")\n",
    "        \n",
    "        top_features = get_top_features(model)\n",
    "        print(f\"\\nTop Three Features: {[X.columns[i] for i in top_features]}\")\n",
    "        print()"
   ]
  },
  {
   "cell_type": "markdown",
   "id": "2f3b26ac",
   "metadata": {},
   "source": [
    "Note:\n",
    "    \n",
    "From observation, the above is unstable too,\n",
    "\n",
    "2 of the three are always changing but Macro is always there in top three.\n",
    "\n",
    "NP is there too most of the times with some exceptions\n"
   ]
  },
  {
   "cell_type": "code",
   "execution_count": 466,
   "id": "a8929da1",
   "metadata": {},
   "outputs": [
    {
     "name": "stdout",
     "output_type": "stream",
     "text": [
      "DecisionTreeReg with top three features:\n",
      " R-Squared = 0.1524\n",
      " MeanAbsoluteError = 0.0193\n",
      "\n",
      "Feature Importance: [0.         0.26812327 0.73187673]\n"
     ]
    }
   ],
   "source": [
    "\n",
    "model = DecisionTreeRegressor(criterion='squared_error', splitter='best', max_depth=2, min_samples_split=2, min_samples_leaf=1, min_weight_fraction_leaf=0.0, max_features=None, random_state=None, max_leaf_nodes=None, min_impurity_decrease=0.0, ccp_alpha=0.0)\n",
    "\n",
    "model.fit(X.loc[:, ['Macro', 'Oligo', 'NP']], y9)\n",
    "y9_pred2 = model.predict(X.loc[:, ['Macro', 'Oligo', 'NP']])\n",
    "r2 = r2_score(y9, y9_pred2)\n",
    "mae = mean_absolute_error(y9, y9_pred2)\n",
    "print(f\"DecisionTreeReg with top three features:\\n R-Squared = {r2:.4f}\\n MeanAbsoluteError = {mae:.4f}\")\n",
    "\n",
    "if hasattr(model, \"feature_importances_\"):\n",
    "    print(f\"\\nFeature Importance: {model.feature_importances_}\")\n"
   ]
  },
  {
   "cell_type": "markdown",
   "id": "7a1885b6",
   "metadata": {},
   "source": [
    "Poor R2 score always\n",
    "\n",
    "If Macro and NP are together, NP is always most important.\n",
    "\n",
    "ANd if NP is not there, Macro is always most important"
   ]
  },
  {
   "cell_type": "code",
   "execution_count": 467,
   "id": "549a4cad",
   "metadata": {},
   "outputs": [
    {
     "data": {
      "text/plain": [
       "(424,)"
      ]
     },
     "execution_count": 467,
     "metadata": {},
     "output_type": "execute_result"
    }
   ],
   "source": [
    "# Seventh EigenMode\n",
    "\n",
    "y10 = emodes_topk[:,6]\n",
    "y10.shape"
   ]
  },
  {
   "cell_type": "code",
   "execution_count": 501,
   "id": "ca662580",
   "metadata": {},
   "outputs": [
    {
     "name": "stdout",
     "output_type": "stream",
     "text": [
      "Linear Regression:\n",
      " R-Squared = 0.0208\n",
      " MeanAbsoluteError = 0.0141\n",
      "Lasso Regression:\n",
      " R-Squared = 0.0000\n",
      " MeanAbsoluteError = 0.0117\n",
      "Decision Tree Regression:\n",
      " R-Squared = 1.0000\n",
      " MeanAbsoluteError = 0.0000\n",
      "\n",
      "Feature Importance: [2.21128973e-01 3.80042753e-05 1.48944905e-03 3.50494085e-03\n",
      " 7.40010072e-04 9.58838541e-05 5.13869609e-03 3.49605921e-04\n",
      " 1.06547128e-01 3.07850609e-02 8.69293625e-06 2.41934342e-03\n",
      " 1.13530359e-03 1.18668905e-01 2.58601729e-03 2.39041884e-03\n",
      " 3.33679990e-01 3.12680485e-02 1.59578459e-02 3.50187082e-03\n",
      " 1.84487000e-03 1.52966508e-02 3.47934879e-03 8.97000259e-02\n",
      " 8.24491630e-03]\n",
      "\n",
      "Top Three Features: ['Chrna6', 'Lamp5', 'L6_IT']\n",
      "\n",
      "Random Forest Regression:\n",
      " R-Squared = 0.8333\n",
      " MeanAbsoluteError = 0.0055\n",
      "\n",
      "Feature Importance: [0.13266202 0.01375325 0.01056792 0.01359722 0.03420305 0.01116227\n",
      " 0.03103379 0.01455209 0.0132295  0.08000139 0.00991728 0.01032402\n",
      " 0.00867303 0.02525667 0.05840499 0.00682409 0.07903895 0.10816269\n",
      " 0.02235133 0.00515646 0.01164342 0.04218453 0.02015382 0.2237361\n",
      " 0.01341014]\n",
      "\n",
      "Top Three Features: ['Oligo', 'Lamp5', 'Gad2']\n",
      "\n",
      "Gradient Boosting Regression:\n",
      " R-Squared = 0.9870\n",
      " MeanAbsoluteError = 0.0034\n",
      "\n",
      "Feature Importance: [1.51817523e-01 2.74695898e-02 1.09729909e-02 4.49335454e-04\n",
      " 3.42785532e-03 1.28477501e-02 4.46464575e-02 2.20368438e-02\n",
      " 3.46095763e-02 9.57558782e-02 4.08848036e-02 1.34123766e-02\n",
      " 7.89898530e-05 1.28980946e-02 1.83587670e-02 2.91906968e-03\n",
      " 1.21765649e-01 1.33798582e-01 1.84144445e-02 1.81743878e-03\n",
      " 4.05313776e-03 7.71433912e-02 1.26410074e-02 1.34274250e-01\n",
      " 3.50619740e-03]\n",
      "\n",
      "Top Three Features: ['Lamp5', 'Oligo', 'Gad2']\n",
      "\n"
     ]
    }
   ],
   "source": [
    "#X_train, X_test, y6_train, y6_test = train_test_split(X, y6,random_state=0)\n",
    "\n",
    "models = {'Linear Regression': LinearRegression(),\n",
    "          'Lasso Regression': Lasso(),\n",
    "          'Decision Tree Regression': DecisionTreeRegressor(),\n",
    "          'Random Forest Regression': RandomForestRegressor(),\n",
    "          'Gradient Boosting Regression': GradientBoostingRegressor()}\n",
    "\n",
    "for name, model in models.items():\n",
    "    model.fit(X, y10)\n",
    "    y10_pred = model.predict(X)\n",
    "    r2 = r2_score(y10, y10_pred)\n",
    "    mae = mean_absolute_error(y10, y10_pred)\n",
    "    print(f\"{name}:\\n R-Squared = {r2:.4f}\\n MeanAbsoluteError = {mae:.4f}\")\n",
    "    \n",
    "    \n",
    "    if hasattr(model,\"feature_importances_\"):\n",
    "        print(f\"\\nFeature Importance: {model.feature_importances_}\")\n",
    "        \n",
    "        top_features = get_top_features(model)\n",
    "        print(f\"\\nTop Three Features: {[X.columns[i] for i in top_features]}\")\n",
    "        print()"
   ]
  },
  {
   "cell_type": "markdown",
   "id": "9e913748",
   "metadata": {},
   "source": [
    "Note:\n",
    "    \n",
    "From observation, the above is unstable too,\n",
    "\n",
    "2 of the three are always changing but Lamp5 is always there in top three.\n",
    "\n",
    "Chran6 is there too most of the times with some exceptions\n"
   ]
  },
  {
   "cell_type": "code",
   "execution_count": 519,
   "id": "28c4c95d",
   "metadata": {},
   "outputs": [
    {
     "name": "stdout",
     "output_type": "stream",
     "text": [
      "DecisionTreeReg with top three features:\n",
      " R-Squared = 0.3780\n",
      " MeanAbsoluteError = 0.0111\n",
      "\n",
      "Feature Importance: [0.98468011 0.01531989 0.        ]\n"
     ]
    }
   ],
   "source": [
    "\n",
    "model = DecisionTreeRegressor(criterion='squared_error', splitter='best', max_depth=2, min_samples_split=2, min_samples_leaf=1, min_weight_fraction_leaf=0.0, max_features=None, random_state=None, max_leaf_nodes=None, min_impurity_decrease=0.0, ccp_alpha=0.0)\n",
    "\n",
    "model.fit(X.loc[:, ['Chrna6', 'Lamp5', 'L6_IT']], y10)\n",
    "y10_pred2 = model.predict(X.loc[:, ['Chrna6', 'Lamp5', 'L6_IT']])\n",
    "r2 = r2_score(y10, y10_pred2)\n",
    "mae = mean_absolute_error(y10, y10_pred2)\n",
    "print(f\"DecisionTreeReg with top three features:\\n R-Squared = {r2:.4f}\\n MeanAbsoluteError = {mae:.4f}\")\n",
    "\n",
    "if hasattr(model, \"feature_importances_\"):\n",
    "    print(f\"\\nFeature Importance: {model.feature_importances_}\")\n"
   ]
  },
  {
   "cell_type": "markdown",
   "id": "2ac3daac",
   "metadata": {},
   "source": [
    "Very poor R2 if Chrna6 is not there\n",
    "\n",
    "But if Chrna6 is there, Better R2 score and Chrna6 most important"
   ]
  },
  {
   "cell_type": "code",
   "execution_count": 505,
   "id": "3ed58bee",
   "metadata": {},
   "outputs": [
    {
     "data": {
      "text/plain": [
       "(424,)"
      ]
     },
     "execution_count": 505,
     "metadata": {},
     "output_type": "execute_result"
    }
   ],
   "source": [
    "# Eigth EigenMode\n",
    "\n",
    "y11 = emodes_topk[:,7]\n",
    "y11.shape"
   ]
  },
  {
   "cell_type": "code",
   "execution_count": 517,
   "id": "3460e369",
   "metadata": {
    "scrolled": true
   },
   "outputs": [
    {
     "name": "stdout",
     "output_type": "stream",
     "text": [
      "Linear Regression:\n",
      " R-Squared = 0.0978\n",
      " MeanAbsoluteError = 0.0186\n",
      "Lasso Regression:\n",
      " R-Squared = 0.0000\n",
      " MeanAbsoluteError = 0.0129\n",
      "Decision Tree Regression:\n",
      " R-Squared = 1.0000\n",
      " MeanAbsoluteError = 0.0000\n",
      "\n",
      "Feature Importance: [0.00550815 0.00662615 0.37421566 0.03998675 0.01277435 0.00897773\n",
      " 0.00199906 0.00208184 0.00177381 0.00140652 0.00307737 0.00229055\n",
      " 0.00365892 0.00617613 0.00123545 0.02242254 0.11106959 0.03816152\n",
      " 0.00071458 0.15055726 0.0034449  0.00155771 0.03436982 0.11556505\n",
      " 0.05034857]\n",
      "\n",
      "Top Three Features: ['Pvalb', 'Slc17a6', 'Oligo']\n",
      "\n",
      "Random Forest Regression:\n",
      " R-Squared = 0.8606\n",
      " MeanAbsoluteError = 0.0064\n",
      "\n",
      "Feature Importance: [0.01278709 0.02470851 0.12324081 0.06764839 0.05089639 0.01866394\n",
      " 0.02334623 0.02196563 0.00680678 0.00178491 0.00531006 0.04946751\n",
      " 0.01199361 0.01240838 0.01227491 0.04813945 0.03754602 0.04964433\n",
      " 0.02139919 0.08834979 0.01340149 0.02042149 0.03220966 0.17263963\n",
      " 0.07294578]\n",
      "\n",
      "Top Three Features: ['Oligo', 'Pvalb', 'Slc17a6']\n",
      "\n",
      "Gradient Boosting Regression:\n",
      " R-Squared = 0.9612\n",
      " MeanAbsoluteError = 0.0059\n",
      "\n",
      "Feature Importance: [0.00448491 0.01081562 0.21741849 0.08814437 0.01831094 0.02003368\n",
      " 0.0093502  0.01344403 0.01574566 0.00404618 0.00056063 0.0263956\n",
      " 0.00485094 0.01706034 0.01616646 0.07337854 0.01399157 0.0185034\n",
      " 0.0102914  0.0796102  0.00713548 0.02553972 0.05302547 0.13503532\n",
      " 0.11666084]\n",
      "\n",
      "Top Three Features: ['Pvalb', 'Oligo', 'Endo']\n",
      "\n"
     ]
    }
   ],
   "source": [
    "#X_train, X_test, y6_train, y6_test = train_test_split(X, y6,random_state=0)\n",
    "\n",
    "models = {'Linear Regression': LinearRegression(),\n",
    "          'Lasso Regression': Lasso(),\n",
    "          'Decision Tree Regression': DecisionTreeRegressor(),\n",
    "          'Random Forest Regression': RandomForestRegressor(),\n",
    "          'Gradient Boosting Regression': GradientBoostingRegressor()}\n",
    "\n",
    "for name, model in models.items():\n",
    "    model.fit(X, y11)\n",
    "    y11_pred = model.predict(X)\n",
    "    r2 = r2_score(y11, y11_pred)\n",
    "    mae = mean_absolute_error(y11, y11_pred)\n",
    "    print(f\"{name}:\\n R-Squared = {r2:.4f}\\n MeanAbsoluteError = {mae:.4f}\")\n",
    "    \n",
    "    \n",
    "    if hasattr(model,\"feature_importances_\"):\n",
    "        print(f\"\\nFeature Importance: {model.feature_importances_}\")\n",
    "        \n",
    "        top_features = get_top_features(model)\n",
    "        print(f\"\\nTop Three Features: {[X.columns[i] for i in top_features]}\")\n",
    "        print()"
   ]
  },
  {
   "cell_type": "markdown",
   "id": "0fdf0588",
   "metadata": {},
   "source": [
    "Very Unstable, all of the top three are changing"
   ]
  },
  {
   "cell_type": "code",
   "execution_count": 518,
   "id": "01ef7dcf",
   "metadata": {},
   "outputs": [],
   "source": [
    "\n",
    "# model = DecisionTreeRegressor(criterion='squared_error', splitter='best', max_depth=2, min_samples_split=2, min_samples_leaf=1, min_weight_fraction_leaf=0.0, max_features=None, random_state=None, max_leaf_nodes=None, min_impurity_decrease=0.0, ccp_alpha=0.0)\n",
    "\n",
    "# model.fit(X.loc[:, ['Chrna6', 'Lamp5', 'L6_IT']], y10)\n",
    "# y10_pred2 = model.predict(X.loc[:, ['Chrna6', 'Lamp5', 'L6_IT']])\n",
    "# r2 = r2_score(y10, y10_pred2)\n",
    "# mae = mean_absolute_error(y10, y10_pred2)\n",
    "# print(f\"DecisionTreeReg with top three features:\\n R-Squared = {r2:.4f}\\n MeanAbsoluteError = {mae:.4f}\")\n",
    "\n",
    "# if hasattr(model, \"feature_importances_\"):\n",
    "#     print(f\"\\nFeature Importance: {model.feature_importances_}\")\n"
   ]
  },
  {
   "cell_type": "code",
   "execution_count": null,
   "id": "99f047d4",
   "metadata": {},
   "outputs": [],
   "source": []
  },
  {
   "cell_type": "code",
   "execution_count": null,
   "id": "98078f6c",
   "metadata": {},
   "outputs": [],
   "source": []
  },
  {
   "cell_type": "code",
   "execution_count": null,
   "id": "56bc67a7",
   "metadata": {},
   "outputs": [],
   "source": []
  },
  {
   "cell_type": "code",
   "execution_count": null,
   "id": "97a3bda0",
   "metadata": {},
   "outputs": [],
   "source": []
  },
  {
   "cell_type": "code",
   "execution_count": null,
   "id": "9a0b7455",
   "metadata": {},
   "outputs": [],
   "source": []
  },
  {
   "cell_type": "code",
   "execution_count": null,
   "id": "8b9d512e",
   "metadata": {},
   "outputs": [],
   "source": []
  },
  {
   "cell_type": "code",
   "execution_count": null,
   "id": "fefe643b",
   "metadata": {},
   "outputs": [],
   "source": []
  },
  {
   "cell_type": "code",
   "execution_count": null,
   "id": "b7f2a2d7",
   "metadata": {},
   "outputs": [],
   "source": []
  },
  {
   "cell_type": "code",
   "execution_count": null,
   "id": "267b6d6f",
   "metadata": {},
   "outputs": [],
   "source": []
  },
  {
   "cell_type": "code",
   "execution_count": null,
   "id": "1605a044",
   "metadata": {},
   "outputs": [],
   "source": []
  },
  {
   "cell_type": "code",
   "execution_count": null,
   "id": "9f265723",
   "metadata": {},
   "outputs": [],
   "source": []
  },
  {
   "cell_type": "code",
   "execution_count": null,
   "id": "640b287d",
   "metadata": {},
   "outputs": [],
   "source": []
  },
  {
   "cell_type": "markdown",
   "id": "a0c7f1ca",
   "metadata": {},
   "source": [
    "### Read X and Y"
   ]
  },
  {
   "cell_type": "code",
   "execution_count": null,
   "id": "83ba090d",
   "metadata": {},
   "outputs": [],
   "source": [
    "X.to_csv(\"../data/X.csv\")"
   ]
  },
  {
   "cell_type": "code",
   "execution_count": null,
   "id": "cc12bacf",
   "metadata": {},
   "outputs": [],
   "source": [
    "X = pd.read_csv(\"../data/X.csv\", index_col=0)"
   ]
  },
  {
   "cell_type": "code",
   "execution_count": null,
   "id": "f6240223",
   "metadata": {},
   "outputs": [],
   "source": [
    "Y=pd.DataFrame(data=Y)"
   ]
  },
  {
   "cell_type": "code",
   "execution_count": null,
   "id": "521808f1",
   "metadata": {},
   "outputs": [],
   "source": [
    "Y.to_csv(\"../data/Y.csv\")"
   ]
  },
  {
   "cell_type": "code",
   "execution_count": null,
   "id": "eaa45617",
   "metadata": {
    "scrolled": true
   },
   "outputs": [],
   "source": [
    "Y = pd.read_csv(\"../data/Y.csv\", index_col=0)"
   ]
  },
  {
   "cell_type": "markdown",
   "id": "a10c11ee",
   "metadata": {},
   "source": [
    "### Ignore all codes below and run your Linear Regression on X and Y"
   ]
  },
  {
   "cell_type": "code",
   "execution_count": null,
   "id": "f1aaf6e8",
   "metadata": {},
   "outputs": [],
   "source": []
  },
  {
   "cell_type": "code",
   "execution_count": null,
   "id": "2373faf0",
   "metadata": {},
   "outputs": [],
   "source": []
  },
  {
   "cell_type": "code",
   "execution_count": null,
   "id": "a91ed240",
   "metadata": {},
   "outputs": [],
   "source": []
  },
  {
   "cell_type": "code",
   "execution_count": null,
   "id": "1ad6cad9",
   "metadata": {},
   "outputs": [],
   "source": [
    "ls_degree = []\n",
    "for i in range(424):\n",
    "    Connectome_direct_density[i][i] = 0\n",
    "for i in range(424):\n",
    "    ls_degree.append(np.sum(Connectome_direct_density[i,:]) + np.sum(Connectome_direct_density[:,i]))\n",
    "\n",
    "df['degree'] = ls_degree\n",
    "df['eigenvector_centrality'] = eigenvector_centrality\n",
    "df['closeness_centrality']=closeness_centrality\n",
    "df['degree_centrality']=degree_centrality\n",
    "df['betweenness_centrality']=betweenness_centrality\n",
    "df['load_centrality']=load_centrality"
   ]
  },
  {
   "cell_type": "code",
   "execution_count": null,
   "id": "cf7e2461",
   "metadata": {},
   "outputs": [],
   "source": [
    "df.columns"
   ]
  },
  {
   "cell_type": "code",
   "execution_count": null,
   "id": "e2f44b3f",
   "metadata": {},
   "outputs": [],
   "source": [
    "alltypes = ['Lamp5', 'Meis2', 'Pvalb', 'Serpinf1', 'Sncg', 'Sst', 'Vip', 'CR',\n",
    "       'L2_3_IT', 'L4', 'L5_IT', 'L5_PT', 'L6_CT', 'L6_IT', 'L6b', 'NP',\n",
    "       'Chrna6', 'Gad2', 'LGv', 'Slc17a6', 'Slc17a7', 'Astro', 'Macro',\n",
    "       'Oligo', 'Endo']"
   ]
  },
  {
   "cell_type": "code",
   "execution_count": null,
   "id": "45bf5fff",
   "metadata": {},
   "outputs": [],
   "source": [
    "np.corrcoef(df[\"Lamp5\"], df[\"eigenvector_centrality\"])[0,1]"
   ]
  },
  {
   "cell_type": "code",
   "execution_count": null,
   "id": "8416c704",
   "metadata": {},
   "outputs": [],
   "source": [
    "bar_dict = {}\n",
    "bar_dict[\"Cell_Types\"] = []\n",
    "bar_dict[\"Correlation_Scores\"] = []\n",
    "bar_dict[\"Correlation_Category\"] = []\n",
    "for atype in alltypes:\n",
    "    for centrality in ['eigenvector_centrality', 'closeness_centrality', 'degree_centrality', 'betweenness_centrality', 'load_centrality']:\n",
    "        metric = df[centrality]\n",
    "        ascore = np.corrcoef(df[atype], df[centrality])[0, 1]\n",
    "        bar_dict[\"Cell_Types\"].append(atype)\n",
    "        bar_dict['Correlation_Category'].append(centrality)\n",
    "        bar_dict[\"Correlation_Scores\"].append(ascore)"
   ]
  },
  {
   "cell_type": "code",
   "execution_count": null,
   "id": "2e917ac4",
   "metadata": {},
   "outputs": [],
   "source": [
    "df_corr_eigen = pd.DataFrame.from_dict(bar_dict)"
   ]
  },
  {
   "cell_type": "code",
   "execution_count": null,
   "id": "dbb4070d",
   "metadata": {},
   "outputs": [],
   "source": [
    "df_sorted_r = df_corr_eigen.sort_values('Correlation_Scores')"
   ]
  },
  {
   "cell_type": "code",
   "execution_count": null,
   "id": "cc36cb9c",
   "metadata": {},
   "outputs": [],
   "source": [
    "df_s_eigen = df_corr_eigen.loc[df_corr_eigen.Correlation_Category == 'eigenvector_centrality']\n",
    "df_s = df_s_eigen.sort_values('Correlation_Scores', ascending=False)"
   ]
  },
  {
   "cell_type": "code",
   "execution_count": null,
   "id": "435df430",
   "metadata": {},
   "outputs": [],
   "source": [
    "ranklist = list(df_s.Cell_Types)"
   ]
  },
  {
   "cell_type": "code",
   "execution_count": null,
   "id": "ef1b2ab6",
   "metadata": {},
   "outputs": [],
   "source": [
    "df_corr_eigen['Cell_Types'] = df_corr_eigen['Cell_Types'].astype(\"category\")\n",
    "df_corr_eigen['Cell_Types'] = df_corr_eigen['Cell_Types'].cat.set_categories(ranklist)"
   ]
  },
  {
   "cell_type": "code",
   "execution_count": null,
   "id": "4cdf955f",
   "metadata": {},
   "outputs": [],
   "source": [
    "df_corr_eigen"
   ]
  },
  {
   "cell_type": "code",
   "execution_count": null,
   "id": "7a57f6e1",
   "metadata": {},
   "outputs": [],
   "source": [
    "clist = ['eigenvector_centrality', 'closeness_centrality',\n",
    "         'degree_centrality', 'betweenness_centrality']\n",
    "colors = ['skyblue', 'pink', 'green', 'orange', 'brown']\n",
    "plt.rcParams[\"figure.figsize\"] = [16, 8]\n",
    "plt.rcParams[\"figure.autolayout\"] = True\n",
    "fig, ax = plt.subplots(1, 4)\n",
    "for i, centrality in enumerate(clist):\n",
    "    df_plot = df_corr_eigen.loc[df_corr_eigen.Correlation_Category == centrality]\n",
    "    df_plot = df_plot.sort_values([\"Cell_Types\"])\n",
    "    ax[i].barh(df_plot[\"Cell_Types\"], df_plot[\"Correlation_Scores\"], color=colors[i])\n",
    "    ax[i].set_title(centrality, fontsize=24)\n",
    "    if i > 0:\n",
    "        ax[i].set_yticks([])\n",
    "    else:\n",
    "        ax[i].set_yticklabels(ranklist, fontsize=18)\n",
    "\n",
    "# plt.title(\"Correlation between Centralities & Node-level Celltype Enrichment\", fontsize=12)\n",
    "plt.savefig(\"full_panel.jpeg\", dpi=600)"
   ]
  },
  {
   "cell_type": "code",
   "execution_count": null,
   "id": "30f53706",
   "metadata": {},
   "outputs": [],
   "source": [
    "plt.rcParams[\"figure.figsize\"] = [14, 5]\n",
    "plt.rcParams[\"figure.autolayout\"] = True\n",
    "\n",
    "df_sorted = df_corr_eigen.sort_values('Correlation_Scores', ascending=False)\n",
    "plt.bar('Cell_Types', 'Correlation_Scores', data=df_sorted, color='orange')\n",
    "plt.xlabel(\"Cell_Types\",fontsize=16)\n",
    "plt.ylabel(\"Correlation with Eigenvector Centrality\", fontsize=14)\n",
    "plt.title(\"Correlation between Eigenvector Centrality & Node-level Celltype Enrichment\", fontsize=22)\n",
    "# plt.savefig(\"EigenCentralityCorrBar.png\", dpi=600)"
   ]
  },
  {
   "cell_type": "code",
   "execution_count": null,
   "id": "96ad3140",
   "metadata": {},
   "outputs": [],
   "source": [
    "import pandas as pd\n",
    " \n",
    "# Initialize data of lists\n",
    "data = []\n",
    "for celltype in df.columns[:25]:\n",
    "    for centrality in df.columns[25:]:\n",
    "        for i in range(424):\n",
    "            data.append({'celltype': celltype, 'centrality': centrality, \n",
    "                         'Density': df[celltype][i], 'Centrality_values': df[centrality][i], \n",
    "                        })\n",
    " \n",
    "# Creates pandas DataFrame by passing\n",
    "# Lists of dictionaries and row index.\n",
    "df_stacked = pd.DataFrame(data, index =range(63600))\n",
    " \n",
    "# Print the data\n",
    "df_stacked"
   ]
  },
  {
   "cell_type": "code",
   "execution_count": null,
   "id": "38f7f3ee",
   "metadata": {},
   "outputs": [],
   "source": [
    "df_stacked.shape"
   ]
  },
  {
   "cell_type": "code",
   "execution_count": null,
   "id": "604f48b7",
   "metadata": {},
   "outputs": [],
   "source": [
    "424*25*6"
   ]
  },
  {
   "cell_type": "code",
   "execution_count": null,
   "id": "7882a9e2",
   "metadata": {},
   "outputs": [],
   "source": [
    "df_stacked.to_csv('./Figure/Celltypes_Centrality.csv')"
   ]
  },
  {
   "cell_type": "code",
   "execution_count": null,
   "id": "67967b82",
   "metadata": {},
   "outputs": [],
   "source": [
    "import matplotlib.pyplot as plt\n",
    "from matplotlib.gridspec import GridSpec\n",
    "import scipy as sp\n",
    "# betweenness_centrality\n",
    "\n",
    "df_stacked_sub = df_stacked[df_stacked['centrality'] =='eigenvector_centrality']\n",
    "# Setting up the plot surface\n",
    "fig2 = plt.figure(figsize=(20, 10))\n",
    "\n",
    "gs = GridSpec(nrows=2, ncols=4)\n",
    "# First axes\n",
    "cellnames= ['Oligo', 'Endo', 'Macro', 'Astro']\n",
    "index_ls = [23,24,22,21]\n",
    "for i in range(2):\n",
    "    for j in range(4):\n",
    "        if i == 0:\n",
    "            celltype = cellnames[j]\n",
    "            #Oligo\n",
    "            #polynomial fit with degree = 2\n",
    "            ax0 = fig2.add_subplot(gs[i, j])\n",
    "            model = np.poly1d(np.polyfit(Celltype_mtx_norm[:,index_ls[j]], ls_degree, 1))\n",
    "\n",
    "            #add fitted polynomial line to scatterplot\n",
    "            polyline = np.linspace(0, 1, 50)\n",
    "            \n",
    "            ax0.scatter(Celltype_mtx_norm[:,index_ls[j]], ls_degree)\n",
    "            ax0.plot(polyline, model(polyline), 'y',linewidth=3)\n",
    "\n",
    "            r, p = sp.stats.spearmanr(Celltype_mtx_norm[:,index_ls[j]], ls_degree)\n",
    "            ax0.text(.05, 2000, 'rho={:.2f}, p={:.2g}'.format(r, p), fontsize = 20)\n",
    "            plt.xticks([0,0.5, 1], fontsize=20)\n",
    "            plt.yticks([0,1000, 2000],fontsize=20)\n",
    "            plt.ylim(0,2200)\n",
    "            ax0.set_title(cellnames[j], fontsize = 20)\n",
    "        else:\n",
    "            celltype = cellnames[j]\n",
    "            #Oligo\n",
    "            #polynomial fit with degree = 2\n",
    "            ax0 = fig2.add_subplot(gs[i, j])\n",
    "            model = np.poly1d(np.polyfit(Celltype_mtx_norm[:,index_ls[j]], eigenvector_centrality, 1))\n",
    "\n",
    "            #add fitted polynomial line to scatterplot\n",
    "            polyline = np.linspace(0, 1, 50)\n",
    "            \n",
    "            ax0.scatter(Celltype_mtx_norm[:,index_ls[j]], eigenvector_centrality)\n",
    "            ax0.plot(polyline, model(polyline), 'y',linewidth=3)\n",
    "\n",
    "            r, p = sp.stats.spearmanr(Celltype_mtx_norm[:,index_ls[j]], eigenvector_centrality)\n",
    "            ax0.text(.05, 0.18, 'rho={:.2f}, p={:.2g}'.format(r, p), fontsize = 20)\n",
    "            plt.yticks([0,0.1, 0.2], fontsize=20)\n",
    "            plt.xticks([0,0.5, 1], fontsize=20)\n",
    "            plt.ylim(0,0.2)\n",
    "            #ax0.set_title(cellnames[j], fontsize = 20)\n",
    "            \n",
    "\n",
    "\n",
    "\n",
    "        \n",
    "\n",
    "for ax in fig2.get_axes():\n",
    "    #ax.xticks(fontsize = 15)\n",
    "    ax.label_outer()\n"
   ]
  },
  {
   "cell_type": "code",
   "execution_count": null,
   "id": "5814c44b",
   "metadata": {},
   "outputs": [],
   "source": [
    "fig2\n",
    "fig2.savefig('./Figure/Fig5_Patial.pdf')"
   ]
  },
  {
   "cell_type": "code",
   "execution_count": null,
   "id": "f09b1239",
   "metadata": {},
   "outputs": [],
   "source": [
    "fig = plt.figure(figsize=(16, 16))\n",
    "\n",
    "\n",
    "if 1==1:\n",
    "    ax1 = plt.subplot2grid((16, 16), (0, 0), colspan=16, rowspan = 4)\n",
    "    grouped = df_feature_important.groupby('Celltype_Names')\n",
    "    users_sorted_average = (\n",
    "        pd.DataFrame({col: vals['Feature_importance'] for col, vals in grouped})\n",
    "        .mean()\n",
    "        .sort_values(ascending=False)\n",
    "    )\n",
    "    grid = sns.boxplot( ax=ax1,x=df_feature_important[\"Celltype_Names\"],y=df_feature_important['Feature_importance'], \n",
    "                       order=users_sorted_average.index)\n",
    "    # Rotate the labels on x-axis\n",
    "    #grid.set_yticklabels(labels=users_sorted_average.index)\n",
    "    \n",
    "    grid.set_xticklabels(labels=users_sorted_average.index, rotation=90)\n",
    "    plt.xticks(fontsize=15)\n",
    "    plt.yticks(fontsize=15)\n",
    "    plt.xlabel('Cell types',fontsize=15)\n",
    "    plt.ylabel('Feature importance',fontsize=15)\n",
    "if 1 == 1:\n",
    "    for i in range(2):\n",
    "        for j in range(4):\n",
    "            if i == 0:\n",
    "                celltype = cellnames[j]\n",
    "                #Oligo\n",
    "                #polynomial fit with degree = 2\n",
    "                ax_up = plt.subplot2grid((16, 16), ( 6+4*i, 4*j), colspan=4, rowspan = 4)\n",
    "                model = np.poly1d(np.polyfit(Celltype_mtx_norm[:,index_ls[j]], ls_degree, 1))\n",
    "\n",
    "                #add fitted polynomial line to scatterplot\n",
    "                polyline = np.linspace(0, 1, 50)\n",
    "\n",
    "                ax_up.scatter(Celltype_mtx_norm[:,index_ls[j]], ls_degree)\n",
    "                ax_up.plot(polyline, model(polyline), 'y',linewidth=3)\n",
    "\n",
    "                r, p = sp.stats.spearmanr(Celltype_mtx_norm[:,index_ls[j]], ls_degree)\n",
    "                ax_up.text(.01, 1500, 'rho={:.2f}, p={:.2g}'.format(r, p), fontsize = 15)\n",
    "                plt.xticks(fontsize=15)\n",
    "                plt.yticks(fontsize=15)\n",
    "                plt.ylim(0,2000)\n",
    "                ax_up.set_title(cellnames[j], fontsize = 20)\n",
    "                \n",
    "                x0,x1 = ax_up.get_xlim()\n",
    "                y0,y1 = ax_up.get_ylim()\n",
    "                changes = ['','0', '', '','','1']\n",
    "\n",
    "                ax_up.set_xticklabels(changes, fontsize = 15)\n",
    "                changes = ['0', '', '','', '',  '', '', '','2×10^3']\n",
    "                ax_up.set_yticklabels(changes, fontsize = 15)\n",
    "                ax_up.set_aspect(abs(x1-x0)/abs(y1-y0))\n",
    "            else:\n",
    "                celltype = cellnames[j]\n",
    "                #Oligo\n",
    "                #polynomial fit with degree = 2\n",
    "                ax_down = plt.subplot2grid((16, 16), ( 4*i+6, 4*j), colspan=4, rowspan = 4)\n",
    "                model = np.poly1d(np.polyfit(Celltype_mtx_norm[:,index_ls[j]], eigenvector_centrality, 1))\n",
    "\n",
    "                #add fitted polynomial line to scatterplot\n",
    "                polyline = np.linspace(0, 1, 50)\n",
    "\n",
    "                ax_down.scatter(Celltype_mtx_norm[:,index_ls[j]], eigenvector_centrality)\n",
    "                ax_down.plot(polyline, model(polyline), 'y',linewidth=3)\n",
    "\n",
    "                r, p = sp.stats.spearmanr(Celltype_mtx_norm[:,index_ls[j]], eigenvector_centrality)\n",
    "                ax_down.text(.01, 0.18, 'rho={:.2f}, p={:.2g}'.format(r, p), fontsize = 15)\n",
    "                \n",
    "                plt.xticks(fontsize=15)\n",
    "                plt.yticks(fontsize=15)\n",
    "                plt.ylim(0,0.2)\n",
    "                \n",
    "                x0,x1 = ax_down.get_xlim()\n",
    "                y0,y1 = ax_down.get_ylim()\n",
    "                changes = ['','0', '', '','','1']\n",
    "\n",
    "                ax_down.set_xticklabels(changes, fontsize = 15)\n",
    "                changes = ['0', '', '','', '',  '', '', '','0.2']\n",
    "                ax_down.set_yticklabels(changes, fontsize = 15)\n",
    "                ax_down.set_aspect(abs(x1-x0)/abs(y1-y0))\n",
    "                #ax0.set_title(cellnames[j], fontsize = 20)\n",
    "        \n",
    "\n",
    "fig.savefig('./Figure/Fig4_incomplete.pdf')"
   ]
  },
  {
   "cell_type": "code",
   "execution_count": null,
   "id": "46a4dace",
   "metadata": {},
   "outputs": [],
   "source": []
  },
  {
   "cell_type": "code",
   "execution_count": null,
   "id": "a9726d11",
   "metadata": {},
   "outputs": [],
   "source": [
    "ax1 = plt.subplot2grid((14, 15), (0, 0), colspan=5, rowspan = 5)"
   ]
  },
  {
   "cell_type": "code",
   "execution_count": null,
   "id": "688c7441",
   "metadata": {},
   "outputs": [],
   "source": [
    "fig1"
   ]
  }
 ],
 "metadata": {
  "kernelspec": {
   "display_name": "Python 3 (ipykernel)",
   "language": "python",
   "name": "python3"
  },
  "language_info": {
   "codemirror_mode": {
    "name": "ipython",
    "version": 3
   },
   "file_extension": ".py",
   "mimetype": "text/x-python",
   "name": "python",
   "nbconvert_exporter": "python",
   "pygments_lexer": "ipython3",
   "version": "3.9.13"
  }
 },
 "nbformat": 4,
 "nbformat_minor": 5
}
